{
 "cells": [
  {
   "cell_type": "markdown",
   "metadata": {
    "id": "sdnnRxTNdyW1"
   },
   "source": [
    "# Neural Networks for Data Science Applications\n",
    "## Mid-term Homework: Implementing a custom activation function\n",
    "\n",
    "**Name**: *Ali Reza Seifi Mojaddar\\>*\n",
    "\n",
    "**Matricola**: *\\<1900547\\>*\n",
    "\n",
    "Send the completed notebook before 26/11/2020 back to **simone.scardapane@uniroma1.it** with the object \"[NNDS] Homework_1_\\<id\\>\"."
   ]
  },
  {
   "cell_type": "code",
   "execution_count": 1,
   "metadata": {
    "id": "PEr8qV6-nMuL"
   },
   "outputs": [],
   "source": [
    "import tensorflow as tf\n",
    "import numpy as np\n",
    "import seaborn as sns\n",
    "import plotly.graph_objects as go\n",
    "import pandas as pd\n",
    "from plotly.subplots import make_subplots\n",
    "from numpy import arange"
   ]
  },
  {
   "cell_type": "markdown",
   "metadata": {
    "id": "wAEgygyPfO7b"
   },
   "source": [
    "### Introduction\n",
    "\n",
    "The **exponential linear unit** (ELU) is an activation function defined as [1]:\n",
    "\n",
    "$$\n",
    "\\phi(x) =\n",
    "\\Biggl\\{ \n",
    "\\begin{align} \n",
    "x & \\;\\; \\text{ if } x \\ge 0 \\\\\n",
    "\\alpha \\left(\\exp\\left(x\\right)- 1\\right) & \\;\\; \\text{ otherwise } \n",
    "\\end{align}\n",
    "\\Bigr.\n",
    "\\,,\n",
    "$$\n",
    "\n",
    "where $\\alpha$ is a hyper-parameter. The function is implemented in `tf.keras.layers.ELU` (see the [documentation](https://www.tensorflow.org/api_docs/python/tf/keras/layers/ELU)).\n",
    "\n",
    "The **parametric ELU** (PELU) extends the ELU activation function as [2]:\n",
    "\n",
    "$$\n",
    "\\phi(x) =\n",
    "\\Biggl\\{ \n",
    "\\begin{align} \n",
    "\\frac{\\alpha}{\\beta}x & \\;\\; \\text{ if } x \\ge 0 \\\\\n",
    "\\alpha \\left(\\exp\\Bigl(\\frac{x}{\\beta}\\Bigr)- 1\\right) & \\;\\; \\text{ otherwise } \n",
    "\\end{align}\n",
    "\\Bigr.\n",
    "\\,,\n",
    "$$\n",
    "\n",
    "where the major difference is that $\\alpha,\\beta > 0$ are *trainable* parameters, i.e., a pair of $(\\alpha, \\beta)$ values is trained for each unit in the network."
   ]
  },
  {
   "cell_type": "markdown",
   "metadata": {
    "id": "5u4aF6Z4maHd"
   },
   "source": [
    "### Exercise 1: implement the PELU\n",
    "\n",
    "In TensorFlow, it is possible to implement new layers by subclassing `tf.keras.layers.Layer`:\n",
    "\n",
    "+ [Making new Layers and Models via subclassing](https://www.tensorflow.org/guide/keras/custom_layers_and_models)\n",
    "+ [Custom layers](https://www.tensorflow.org/tutorials/customization/custom_layers)\n",
    "+ [tf.keras.layers.Layer (documentation)](https://www.tensorflow.org/api_docs/python/tf/keras/layers/Layer)\n",
    "\n",
    "**Exercise 1**: *After carefully reading the guides*, complete the following implementation of the PELU activation function."
   ]
  },
  {
   "cell_type": "code",
   "execution_count": 2,
   "metadata": {
    "id": "jE8AlSKi5HpO"
   },
   "outputs": [],
   "source": [
    "class PELU(tf.keras.layers.Layer): # this is the final version till now !!!!!\n",
    "    def __init__(self, units=32, autocast=False):\n",
    "        super(PELU, self).__init__()\n",
    "        self.units = units\n",
    "        \n",
    "    \n",
    "    def build(self, input_shape):\n",
    "        self.alpha = self.add_weight( name='alpha', shape=(input_shape[-1], ),initializer='ones',constraint=lambda x: tf.clip_by_value(x, .1, np.inf),trainable=True)\n",
    "        self.beta  = self.add_weight( name='beta', shape=(input_shape[-1], ),initializer='ones',constraint=lambda x: tf.clip_by_value(x, .1, np.inf),trainable=True)\n",
    "        super(PELU, self).build(input_shape)\n",
    "    \n",
    "    def call(self, x):\n",
    "\n",
    "        return tf.add(\n",
    "                      tf.multiply(tf.divide(self.alpha, tf.add(self.beta, 1e-9)), tf.maximum(0., x)),\n",
    "                      tf.multiply(self.alpha, tf.add(-1.0, tf.exp(tf.divide(tf.minimum(0., x), tf.add(self.beta, 1e-9)))))\n",
    "                    )\n",
    "    def get_config(self):\n",
    "        config = super(PELU, self).get_config()\n",
    "        config.update({\"units\": self.units})\n",
    "        return config    "
   ]
  },
  {
   "cell_type": "markdown",
   "metadata": {
    "id": "o8MEZxqbn8vs"
   },
   "source": [
    "**Hints for a correct implementation**:\n",
    "\n",
    "1. The layer (probably) requires two sets of trainable variables, whose shape depends on the number of units.\n",
    "2. From the definition of the PELU, $\\alpha, \\beta$ are required to be positive in order to ensure differentiability. The simplest way to handle this is to use a [constraint callable](https://www.tensorflow.org/api_docs/python/tf/keras/constraints) when creating the weight (see also the [documentation](https://www.tensorflow.org/api_docs/python/tf/keras/layers/Layer) for `add_weight`)."
   ]
  },
  {
   "cell_type": "markdown",
   "metadata": {
    "id": "-QY0TfCxo9yd"
   },
   "source": [
    "### Exercise 2: some preliminary tests\n",
    "\n",
    "To evaluate your implementation, let us start by creating a single PELU function:"
   ]
  },
  {
   "cell_type": "code",
   "execution_count": 44,
   "metadata": {
    "id": "DFNFXarBe8DV"
   },
   "outputs": [],
   "source": [
    "pelu = PELU(units=1)"
   ]
  },
  {
   "cell_type": "code",
   "execution_count": 36,
   "metadata": {
    "colab": {
     "base_uri": "https://localhost:8080/"
    },
    "id": "MMajoUW5j1LU",
    "outputId": "dd3bbd22-e9c5-4094-840c-274b2e4ca1c9"
   },
   "outputs": [
    {
     "data": {
      "text/plain": [
       "[<tf.Variable 'pelu_8/alpha:0' shape=(200,) dtype=float32, numpy=\n",
       " array([1., 1., 1., 1., 1., 1., 1., 1., 1., 1., 1., 1., 1., 1., 1., 1., 1.,\n",
       "        1., 1., 1., 1., 1., 1., 1., 1., 1., 1., 1., 1., 1., 1., 1., 1., 1.,\n",
       "        1., 1., 1., 1., 1., 1., 1., 1., 1., 1., 1., 1., 1., 1., 1., 1., 1.,\n",
       "        1., 1., 1., 1., 1., 1., 1., 1., 1., 1., 1., 1., 1., 1., 1., 1., 1.,\n",
       "        1., 1., 1., 1., 1., 1., 1., 1., 1., 1., 1., 1., 1., 1., 1., 1., 1.,\n",
       "        1., 1., 1., 1., 1., 1., 1., 1., 1., 1., 1., 1., 1., 1., 1., 1., 1.,\n",
       "        1., 1., 1., 1., 1., 1., 1., 1., 1., 1., 1., 1., 1., 1., 1., 1., 1.,\n",
       "        1., 1., 1., 1., 1., 1., 1., 1., 1., 1., 1., 1., 1., 1., 1., 1., 1.,\n",
       "        1., 1., 1., 1., 1., 1., 1., 1., 1., 1., 1., 1., 1., 1., 1., 1., 1.,\n",
       "        1., 1., 1., 1., 1., 1., 1., 1., 1., 1., 1., 1., 1., 1., 1., 1., 1.,\n",
       "        1., 1., 1., 1., 1., 1., 1., 1., 1., 1., 1., 1., 1., 1., 1., 1., 1.,\n",
       "        1., 1., 1., 1., 1., 1., 1., 1., 1., 1., 1., 1., 1.], dtype=float32)>,\n",
       " <tf.Variable 'pelu_8/beta:0' shape=(200,) dtype=float32, numpy=\n",
       " array([1., 1., 1., 1., 1., 1., 1., 1., 1., 1., 1., 1., 1., 1., 1., 1., 1.,\n",
       "        1., 1., 1., 1., 1., 1., 1., 1., 1., 1., 1., 1., 1., 1., 1., 1., 1.,\n",
       "        1., 1., 1., 1., 1., 1., 1., 1., 1., 1., 1., 1., 1., 1., 1., 1., 1.,\n",
       "        1., 1., 1., 1., 1., 1., 1., 1., 1., 1., 1., 1., 1., 1., 1., 1., 1.,\n",
       "        1., 1., 1., 1., 1., 1., 1., 1., 1., 1., 1., 1., 1., 1., 1., 1., 1.,\n",
       "        1., 1., 1., 1., 1., 1., 1., 1., 1., 1., 1., 1., 1., 1., 1., 1., 1.,\n",
       "        1., 1., 1., 1., 1., 1., 1., 1., 1., 1., 1., 1., 1., 1., 1., 1., 1.,\n",
       "        1., 1., 1., 1., 1., 1., 1., 1., 1., 1., 1., 1., 1., 1., 1., 1., 1.,\n",
       "        1., 1., 1., 1., 1., 1., 1., 1., 1., 1., 1., 1., 1., 1., 1., 1., 1.,\n",
       "        1., 1., 1., 1., 1., 1., 1., 1., 1., 1., 1., 1., 1., 1., 1., 1., 1.,\n",
       "        1., 1., 1., 1., 1., 1., 1., 1., 1., 1., 1., 1., 1., 1., 1., 1., 1.,\n",
       "        1., 1., 1., 1., 1., 1., 1., 1., 1., 1., 1., 1., 1.], dtype=float32)>]"
      ]
     },
     "execution_count": 36,
     "metadata": {
      "tags": []
     },
     "output_type": "execute_result"
    }
   ],
   "source": [
    "pelu.trainable_weights"
   ]
  },
  {
   "cell_type": "markdown",
   "metadata": {
    "id": "RWY76mEepSgj"
   },
   "source": [
    "**Exercise 2.1**: plot the function using the skeleton code below."
   ]
  },
  {
   "cell_type": "code",
   "execution_count": 45,
   "metadata": {
    "colab": {
     "base_uri": "https://localhost:8080/",
     "height": 283
    },
    "id": "jdK0CyscfDtC",
    "outputId": "ea171b3f-92b9-43cc-df78-db75cd5a0877"
   },
   "outputs": [
    {
     "data": {
      "text/plain": [
       "[<matplotlib.lines.Line2D at 0x7fb49f1b0da0>]"
      ]
     },
     "execution_count": 45,
     "metadata": {
      "tags": []
     },
     "output_type": "execute_result"
    },
    {
     "data": {
      "image/png": "[encoded data removed]",
      "text/plain": [
       "<Figure size 432x288 with 1 Axes>"
      ]
     },
     "metadata": {
      "needs_background": "light",
      "tags": []
     },
     "output_type": "display_data"
    }
   ],
   "source": [
    "import matplotlib.pyplot as plt\n",
    "x_range = tf.linspace(-5., 5., 200) # An equispaced grid of 200 points in [-5, +5]\n",
    "y_range = pelu(x_range) # TODO: Your code here\n",
    "plt.plot(x_range.numpy(), y_range.numpy())"
   ]
  },
  {
   "cell_type": "markdown",
   "metadata": {
    "id": "LyGIlR_aqayc"
   },
   "source": [
    "The derivative of a PELU function with respect to the $\\alpha$ parameter is given by [2]:\n",
    "\n",
    "$$\n",
    "\\frac{d\\phi(x)}{d\\alpha} =\n",
    "\\Biggl\\{ \n",
    "\\begin{align} \n",
    "\\frac{x}{\\beta} & \\;\\; \\text{ if } x \\ge 0 \\\\\n",
    " \\left(\\exp\\Bigl(\\frac{x}{\\beta}\\Bigr)- 1\\right) & \\;\\; \\text{ otherwise } \n",
    "\\end{align}\n",
    "\\Bigr.\n",
    "\\,,\n",
    "$$"
   ]
  },
  {
   "cell_type": "markdown",
   "metadata": {
    "id": "GnvkoRVAqwg1"
   },
   "source": [
    "**Exercise 2.2**: using a `tf.GradientTape` object, compute the derivative above using automatic differentiation, and check its correctness up to a certain numerical precision.\n",
    "\n",
    "**Hints for a correct implementation**:\n",
    "\n",
    "1. `tf.GradientTape` allows to compute the derivative *at a single point x*. If you prefer to avoid a loop over all possible points, consider using the `jacobian` function to obtain them in a single pass ([Advanced Automatic Differentiation](https://www.tensorflow.org/guide/advanced_autodiff)).\n",
    "2. Given two tensors x and y, a simple way to compute elementwise similarity up to a certain precision (e.g., $10^{-4}$), is given by `tf.reduce_all(tf.abs(x - y) < 1e-4)`.\n",
    "\n",
    "**Exercise 2.3 (optional)**: try the same for the $\\beta$ parameter (you can check the analytical formula for the gradient in the original paper [2]). **Careful**: the equation in the original paper has a missing $h$ (thanks to Davide Aureli and Federico Siciliano for spotting this). See [the correct derivation](https://www.wolframalpha.com/input/?i=d%28a*%28exp%28h%2Fb%29-1%29%29%2Fdb) on Wolfram Alpha."
   ]
  },
  {
   "cell_type": "code",
   "execution_count": null,
   "metadata": {
    "id": "TsC2SgOZGLyp"
   },
   "outputs": [],
   "source": [
    "# Derivative Section With gradient"
   ]
  },
  {
   "cell_type": "code",
   "execution_count": 38,
   "metadata": {
    "id": "A5cUG31Z-JG6"
   },
   "outputs": [],
   "source": [
    "with tf.GradientTape(persistent=True) as tape:\n",
    "  tape.watch(pelu.alpha)\n",
    "  y = pelu(x_range)\n",
    "result = tape.gradient(y, pelu.alpha)"
   ]
  },
  {
   "cell_type": "code",
   "execution_count": 42,
   "metadata": {
    "colab": {
     "base_uri": "https://localhost:8080/"
    },
    "id": "Uqq1Lq0E-qQT",
    "outputId": "a4a09afa-4797-4307-8e8e-b3de021af4d8"
   },
   "outputs": [
    {
     "data": {
      "text/plain": [
       "<tf.Tensor: shape=(), dtype=bool, numpy=True>"
      ]
     },
     "execution_count": 42,
     "metadata": {
      "tags": []
     },
     "output_type": "execute_result"
    }
   ],
   "source": [
    "tf.reduce_all(tf.abs(result - manual) < 1e-4)"
   ]
  },
  {
   "cell_type": "code",
   "execution_count": 41,
   "metadata": {
    "id": "ztaVE6RMScUH"
   },
   "outputs": [],
   "source": [
    "# Derivative Section with Jacobian"
   ]
  },
  {
   "cell_type": "code",
   "execution_count": 42,
   "metadata": {
    "id": "raqBF8rMScci"
   },
   "outputs": [],
   "source": [
    "with tf.GradientTape(persistent=True) as tape:\n",
    "  y = pelu(x_range)"
   ]
  },
  {
   "cell_type": "code",
   "execution_count": 43,
   "metadata": {
    "id": "curm0iZEScjB"
   },
   "outputs": [],
   "source": [
    "output = tape.jacobian(y, pelu.alpha)"
   ]
  },
  {
   "cell_type": "code",
   "execution_count": 44,
   "metadata": {
    "id": "DBXP7rTAiJ5W"
   },
   "outputs": [],
   "source": [
    "# Manual Derivative Function"
   ]
  },
  {
   "cell_type": "code",
   "execution_count": 40,
   "metadata": {
    "id": "hjAXC9lGiKEL"
   },
   "outputs": [],
   "source": [
    "def Manual(x):\n",
    "  y = tf.add(\n",
    "      tf.divide(tf.maximum(0., x_range), tf.add(pelu.beta, 1e-9)),\n",
    "      tf.add(-1.0, tf.exp(tf.divide(tf.minimum(0., x_range), tf.add(pelu.beta, 1e-9))))\n",
    "  )\n",
    "  return y"
   ]
  },
  {
   "cell_type": "code",
   "execution_count": 41,
   "metadata": {
    "id": "ZR-J8IdLiKJC"
   },
   "outputs": [],
   "source": [
    "manual = Manual(x_range)"
   ]
  },
  {
   "cell_type": "code",
   "execution_count": 47,
   "metadata": {
    "colab": {
     "base_uri": "https://localhost:8080/"
    },
    "id": "Jrmd5m4-jtRF",
    "outputId": "d5f4c87e-2feb-43aa-ee76-3d1334b9eb6a"
   },
   "outputs": [
    {
     "data": {
      "text/plain": [
       "<tf.Tensor: shape=(), dtype=bool, numpy=True>"
      ]
     },
     "execution_count": 47,
     "metadata": {
      "tags": []
     },
     "output_type": "execute_result"
    }
   ],
   "source": [
    "tf.reduce_all(tf.abs(output[output != 0.] - manual[:]) < 1e-4)"
   ]
  },
  {
   "cell_type": "code",
   "execution_count": 48,
   "metadata": {
    "id": "UEKG6_qTp1uI"
   },
   "outputs": [],
   "source": [
    "# Visualizing the Number of True and False's in Jacobian."
   ]
  },
  {
   "cell_type": "code",
   "execution_count": 49,
   "metadata": {
    "id": "YJvb7xUZiKO2"
   },
   "outputs": [],
   "source": [
    "result = [int(tf.reduce_all(tf.abs(output[i,i] - manual[i]) < 1e-4).numpy()) for i in range(200)]\n",
    "True_Num  = result.count(1)\n",
    "False_Num = result.count(0)"
   ]
  },
  {
   "cell_type": "code",
   "execution_count": 50,
   "metadata": {
    "colab": {
     "base_uri": "https://localhost:8080/",
     "height": 417
    },
    "id": "TPsRCp6oiJ_2",
    "outputId": "2e5cc0a4-de1a-48ef-c72c-f78a6e8e3389"
   },
   "outputs": [
    {
     "data": {
      "text/html": [
       "<html>\n",
       "<head><meta charset=\"utf-8\" /></head>\n",
       "<body>\n",
       "    <div>\n",
       "            <script src=\"https://cdnjs.cloudflare.com/ajax/libs/mathjax/2.7.5/MathJax.js?config=TeX-AMS-MML_SVG\"></script><script type=\"text/javascript\">if (window.MathJax) {MathJax.Hub.Config({SVG: {font: \"STIX-Web\"}});}</script>\n",
       "                <script type=\"text/javascript\">window.PlotlyConfig = {MathJaxConfig: 'local'};</script>\n",
       "        <script src=\"https://cdn.plot.ly/plotly-latest.min.js\"></script>    \n",
       "            <div id=\"2d85e98d-39b8-4b1d-8fd7-a4172b8c7a39\" class=\"plotly-graph-div\" style=\"height:400px; width:700px;\"></div>\n",
       "            <script type=\"text/javascript\">\n",
       "                \n",
       "                    window.PLOTLYENV=window.PLOTLYENV || {};\n",
       "                    \n",
       "                if (document.getElementById(\"2d85e98d-39b8-4b1d-8fd7-a4172b8c7a39\")) {\n",
       "                    Plotly.newPlot(\n",
       "                        '2d85e98d-39b8-4b1d-8fd7-a4172b8c7a39',\n",
       "                        [{\"type\": \"bar\", \"x\": [\"True\", \"False\"], \"y\": [200, 0]}],\n",
       "                        {\"annotations\": [{\"font\": {\"size\": 16}, \"showarrow\": false, \"text\": \"J\", \"x\": 0.5, \"xanchor\": \"center\", \"xref\": \"paper\", \"y\": 1.0, \"yanchor\": \"bottom\", \"yref\": \"paper\"}], \"bargap\": 0.05, \"barmode\": \"relative\", \"height\": 400, \"template\": {\"data\": {\"bar\": [{\"error_x\": {\"color\": \"#2a3f5f\"}, \"error_y\": {\"color\": \"#2a3f5f\"}, \"marker\": {\"line\": {\"color\": \"#E5ECF6\", \"width\": 0.5}}, \"type\": \"bar\"}], \"barpolar\": [{\"marker\": {\"line\": {\"color\": \"#E5ECF6\", \"width\": 0.5}}, \"type\": \"barpolar\"}], \"carpet\": [{\"aaxis\": {\"endlinecolor\": \"#2a3f5f\", \"gridcolor\": \"white\", \"linecolor\": \"white\", \"minorgridcolor\": \"white\", \"startlinecolor\": \"#2a3f5f\"}, \"baxis\": {\"endlinecolor\": \"#2a3f5f\", \"gridcolor\": \"white\", \"linecolor\": \"white\", \"minorgridcolor\": \"white\", \"startlinecolor\": \"#2a3f5f\"}, \"type\": \"carpet\"}], \"choropleth\": [{\"colorbar\": {\"outlinewidth\": 0, \"ticks\": \"\"}, \"type\": \"choropleth\"}], \"contour\": [{\"colorbar\": {\"outlinewidth\": 0, \"ticks\": \"\"}, \"colorscale\": [[0.0, \"#0d0887\"], [0.1111111111111111, \"#46039f\"], [0.2222222222222222, \"#7201a8\"], [0.3333333333333333, \"#9c179e\"], [0.4444444444444444, \"#bd3786\"], [0.5555555555555556, \"#d8576b\"], [0.6666666666666666, \"#ed7953\"], [0.7777777777777778, \"#fb9f3a\"], [0.8888888888888888, \"#fdca26\"], [1.0, \"#f0f921\"]], \"type\": \"contour\"}], \"contourcarpet\": [{\"colorbar\": {\"outlinewidth\": 0, \"ticks\": \"\"}, \"type\": \"contourcarpet\"}], \"heatmap\": [{\"colorbar\": {\"outlinewidth\": 0, \"ticks\": \"\"}, \"colorscale\": [[0.0, \"#0d0887\"], [0.1111111111111111, \"#46039f\"], [0.2222222222222222, \"#7201a8\"], [0.3333333333333333, \"#9c179e\"], [0.4444444444444444, \"#bd3786\"], [0.5555555555555556, \"#d8576b\"], [0.6666666666666666, \"#ed7953\"], [0.7777777777777778, \"#fb9f3a\"], [0.8888888888888888, \"#fdca26\"], [1.0, \"#f0f921\"]], \"type\": \"heatmap\"}], \"heatmapgl\": [{\"colorbar\": {\"outlinewidth\": 0, \"ticks\": \"\"}, \"colorscale\": [[0.0, \"#0d0887\"], [0.1111111111111111, \"#46039f\"], [0.2222222222222222, \"#7201a8\"], [0.3333333333333333, \"#9c179e\"], [0.4444444444444444, \"#bd3786\"], [0.5555555555555556, \"#d8576b\"], [0.6666666666666666, \"#ed7953\"], [0.7777777777777778, \"#fb9f3a\"], [0.8888888888888888, \"#fdca26\"], [1.0, \"#f0f921\"]], \"type\": \"heatmapgl\"}], \"histogram\": [{\"marker\": {\"colorbar\": {\"outlinewidth\": 0, \"ticks\": \"\"}}, \"type\": \"histogram\"}], \"histogram2d\": [{\"colorbar\": {\"outlinewidth\": 0, \"ticks\": \"\"}, \"colorscale\": [[0.0, \"#0d0887\"], [0.1111111111111111, \"#46039f\"], [0.2222222222222222, \"#7201a8\"], [0.3333333333333333, \"#9c179e\"], [0.4444444444444444, \"#bd3786\"], [0.5555555555555556, \"#d8576b\"], [0.6666666666666666, \"#ed7953\"], [0.7777777777777778, \"#fb9f3a\"], [0.8888888888888888, \"#fdca26\"], [1.0, \"#f0f921\"]], \"type\": \"histogram2d\"}], \"histogram2dcontour\": [{\"colorbar\": {\"outlinewidth\": 0, \"ticks\": \"\"}, \"colorscale\": [[0.0, \"#0d0887\"], [0.1111111111111111, \"#46039f\"], [0.2222222222222222, \"#7201a8\"], [0.3333333333333333, \"#9c179e\"], [0.4444444444444444, \"#bd3786\"], [0.5555555555555556, \"#d8576b\"], [0.6666666666666666, \"#ed7953\"], [0.7777777777777778, \"#fb9f3a\"], [0.8888888888888888, \"#fdca26\"], [1.0, \"#f0f921\"]], \"type\": \"histogram2dcontour\"}], \"mesh3d\": [{\"colorbar\": {\"outlinewidth\": 0, \"ticks\": \"\"}, \"type\": \"mesh3d\"}], \"parcoords\": [{\"line\": {\"colorbar\": {\"outlinewidth\": 0, \"ticks\": \"\"}}, \"type\": \"parcoords\"}], \"pie\": [{\"automargin\": true, \"type\": \"pie\"}], \"scatter\": [{\"marker\": {\"colorbar\": {\"outlinewidth\": 0, \"ticks\": \"\"}}, \"type\": \"scatter\"}], \"scatter3d\": [{\"line\": {\"colorbar\": {\"outlinewidth\": 0, \"ticks\": \"\"}}, \"marker\": {\"colorbar\": {\"outlinewidth\": 0, \"ticks\": \"\"}}, \"type\": \"scatter3d\"}], \"scattercarpet\": [{\"marker\": {\"colorbar\": {\"outlinewidth\": 0, \"ticks\": \"\"}}, \"type\": \"scattercarpet\"}], \"scattergeo\": [{\"marker\": {\"colorbar\": {\"outlinewidth\": 0, \"ticks\": \"\"}}, \"type\": \"scattergeo\"}], \"scattergl\": [{\"marker\": {\"colorbar\": {\"outlinewidth\": 0, \"ticks\": \"\"}}, \"type\": \"scattergl\"}], \"scattermapbox\": [{\"marker\": {\"colorbar\": {\"outlinewidth\": 0, \"ticks\": \"\"}}, \"type\": \"scattermapbox\"}], \"scatterpolar\": [{\"marker\": {\"colorbar\": {\"outlinewidth\": 0, \"ticks\": \"\"}}, \"type\": \"scatterpolar\"}], \"scatterpolargl\": [{\"marker\": {\"colorbar\": {\"outlinewidth\": 0, \"ticks\": \"\"}}, \"type\": \"scatterpolargl\"}], \"scatterternary\": [{\"marker\": {\"colorbar\": {\"outlinewidth\": 0, \"ticks\": \"\"}}, \"type\": \"scatterternary\"}], \"surface\": [{\"colorbar\": {\"outlinewidth\": 0, \"ticks\": \"\"}, \"colorscale\": [[0.0, \"#0d0887\"], [0.1111111111111111, \"#46039f\"], [0.2222222222222222, \"#7201a8\"], [0.3333333333333333, \"#9c179e\"], [0.4444444444444444, \"#bd3786\"], [0.5555555555555556, \"#d8576b\"], [0.6666666666666666, \"#ed7953\"], [0.7777777777777778, \"#fb9f3a\"], [0.8888888888888888, \"#fdca26\"], [1.0, \"#f0f921\"]], \"type\": \"surface\"}], \"table\": [{\"cells\": {\"fill\": {\"color\": \"#EBF0F8\"}, \"line\": {\"color\": \"white\"}}, \"header\": {\"fill\": {\"color\": \"#C8D4E3\"}, \"line\": {\"color\": \"white\"}}, \"type\": \"table\"}]}, \"layout\": {\"annotationdefaults\": {\"arrowcolor\": \"#2a3f5f\", \"arrowhead\": 0, \"arrowwidth\": 1}, \"coloraxis\": {\"colorbar\": {\"outlinewidth\": 0, \"ticks\": \"\"}}, \"colorscale\": {\"diverging\": [[0, \"#8e0152\"], [0.1, \"#c51b7d\"], [0.2, \"#de77ae\"], [0.3, \"#f1b6da\"], [0.4, \"#fde0ef\"], [0.5, \"#f7f7f7\"], [0.6, \"#e6f5d0\"], [0.7, \"#b8e186\"], [0.8, \"#7fbc41\"], [0.9, \"#4d9221\"], [1, \"#276419\"]], \"sequential\": [[0.0, \"#0d0887\"], [0.1111111111111111, \"#46039f\"], [0.2222222222222222, \"#7201a8\"], [0.3333333333333333, \"#9c179e\"], [0.4444444444444444, \"#bd3786\"], [0.5555555555555556, \"#d8576b\"], [0.6666666666666666, \"#ed7953\"], [0.7777777777777778, \"#fb9f3a\"], [0.8888888888888888, \"#fdca26\"], [1.0, \"#f0f921\"]], \"sequentialminus\": [[0.0, \"#0d0887\"], [0.1111111111111111, \"#46039f\"], [0.2222222222222222, \"#7201a8\"], [0.3333333333333333, \"#9c179e\"], [0.4444444444444444, \"#bd3786\"], [0.5555555555555556, \"#d8576b\"], [0.6666666666666666, \"#ed7953\"], [0.7777777777777778, \"#fb9f3a\"], [0.8888888888888888, \"#fdca26\"], [1.0, \"#f0f921\"]]}, \"colorway\": [\"#636efa\", \"#EF553B\", \"#00cc96\", \"#ab63fa\", \"#FFA15A\", \"#19d3f3\", \"#FF6692\", \"#B6E880\", \"#FF97FF\", \"#FECB52\"], \"font\": {\"color\": \"#2a3f5f\"}, \"geo\": {\"bgcolor\": \"white\", \"lakecolor\": \"white\", \"landcolor\": \"#E5ECF6\", \"showlakes\": true, \"showland\": true, \"subunitcolor\": \"white\"}, \"hoverlabel\": {\"align\": \"left\"}, \"hovermode\": \"closest\", \"mapbox\": {\"style\": \"light\"}, \"paper_bgcolor\": \"white\", \"plot_bgcolor\": \"#E5ECF6\", \"polar\": {\"angularaxis\": {\"gridcolor\": \"white\", \"linecolor\": \"white\", \"ticks\": \"\"}, \"bgcolor\": \"#E5ECF6\", \"radialaxis\": {\"gridcolor\": \"white\", \"linecolor\": \"white\", \"ticks\": \"\"}}, \"scene\": {\"xaxis\": {\"backgroundcolor\": \"#E5ECF6\", \"gridcolor\": \"white\", \"gridwidth\": 2, \"linecolor\": \"white\", \"showbackground\": true, \"ticks\": \"\", \"zerolinecolor\": \"white\"}, \"yaxis\": {\"backgroundcolor\": \"#E5ECF6\", \"gridcolor\": \"white\", \"gridwidth\": 2, \"linecolor\": \"white\", \"showbackground\": true, \"ticks\": \"\", \"zerolinecolor\": \"white\"}, \"zaxis\": {\"backgroundcolor\": \"#E5ECF6\", \"gridcolor\": \"white\", \"gridwidth\": 2, \"linecolor\": \"white\", \"showbackground\": true, \"ticks\": \"\", \"zerolinecolor\": \"white\"}}, \"shapedefaults\": {\"line\": {\"color\": \"#2a3f5f\"}}, \"ternary\": {\"aaxis\": {\"gridcolor\": \"white\", \"linecolor\": \"white\", \"ticks\": \"\"}, \"baxis\": {\"gridcolor\": \"white\", \"linecolor\": \"white\", \"ticks\": \"\"}, \"bgcolor\": \"#E5ECF6\", \"caxis\": {\"gridcolor\": \"white\", \"linecolor\": \"white\", \"ticks\": \"\"}}, \"title\": {\"x\": 0.05}, \"xaxis\": {\"automargin\": true, \"gridcolor\": \"white\", \"linecolor\": \"white\", \"ticks\": \"\", \"title\": {\"standoff\": 15}, \"zerolinecolor\": \"white\", \"zerolinewidth\": 2}, \"yaxis\": {\"automargin\": true, \"gridcolor\": \"white\", \"linecolor\": \"white\", \"ticks\": \"\", \"title\": {\"standoff\": 15}, \"zerolinecolor\": \"white\", \"zerolinewidth\": 2}}}, \"width\": 700, \"xaxis\": {\"anchor\": \"y\", \"domain\": [0.0, 1.0]}, \"yaxis\": {\"anchor\": \"x\", \"domain\": [0.0, 1.0]}},\n",
       "                        {\"responsive\": true}\n",
       "                    ).then(function(){\n",
       "                            \n",
       "var gd = document.getElementById('2d85e98d-39b8-4b1d-8fd7-a4172b8c7a39');\n",
       "var x = new MutationObserver(function (mutations, observer) {{\n",
       "        var display = window.getComputedStyle(gd).display;\n",
       "        if (!display || display === 'none') {{\n",
       "            console.log([gd, 'removed!']);\n",
       "            Plotly.purge(gd);\n",
       "            observer.disconnect();\n",
       "        }}\n",
       "}});\n",
       "\n",
       "// Listen for the removal of the full notebook cells\n",
       "var notebookContainer = gd.closest('#notebook-container');\n",
       "if (notebookContainer) {{\n",
       "    x.observe(notebookContainer, {childList: true});\n",
       "}}\n",
       "\n",
       "// Listen for the clearing of the current output cell\n",
       "var outputEl = gd.closest('.output');\n",
       "if (outputEl) {{\n",
       "    x.observe(outputEl, {childList: true});\n",
       "}}\n",
       "\n",
       "                        })\n",
       "                };\n",
       "                \n",
       "            </script>\n",
       "        </div>\n",
       "</body>\n",
       "</html>"
      ]
     },
     "metadata": {
      "tags": []
     },
     "output_type": "display_data"
    }
   ],
   "source": [
    "fig = make_subplots(rows=1, cols=1, subplot_titles=('Jacobian'))\n",
    "fig.add_trace(go.Bar(x=['True',\"False\"], y=[True_Num, False_Num]))\n",
    "fig.update_layout(barmode='relative',  bargap=0.05, width=700, height=400)"
   ]
  },
  {
   "cell_type": "code",
   "execution_count": 4,
   "metadata": {
    "id": "b4SjeDBrSprT"
   },
   "outputs": [],
   "source": [
    "# Calculating Gradient With respect to Beta using Plotly"
   ]
  },
  {
   "cell_type": "code",
   "execution_count": 54,
   "metadata": {
    "id": "vRN5WNmyG7Ie"
   },
   "outputs": [],
   "source": [
    "with tf.GradientTape(persistent=True) as tape:\n",
    "  y = pelu(x_range)\n",
    "beta_result = tape.gradient(y, pelu.beta)"
   ]
  },
  {
   "cell_type": "code",
   "execution_count": 72,
   "metadata": {
    "id": "iLJZLVLzHbFy"
   },
   "outputs": [],
   "source": [
    "def beta():\n",
    "  return tf.add(tf.multiply(-1., tf.divide(tf.multiply(pelu.alpha, tf.maximum(0., x_range)), tf.pow(tf.add(pelu.beta, 1e-9), 2))),\n",
    "                tf.multiply(-1.,tf.divide(tf.multiply(tf.multiply(pelu.alpha, tf.minimum(0., x_range)), tf.exp(tf.divide(tf.minimum(0., x_range), tf.add(pelu.beta, 1e-9)))),tf.pow(tf.add(pelu.beta, 1e-9), 2.))))"
   ]
  },
  {
   "cell_type": "code",
   "execution_count": 73,
   "metadata": {
    "id": "eaY5L73tJfig"
   },
   "outputs": [],
   "source": [
    "beta_manual = beta()"
   ]
  },
  {
   "cell_type": "code",
   "execution_count": 74,
   "metadata": {
    "colab": {
     "base_uri": "https://localhost:8080/"
    },
    "id": "Dx2XbAUhK5hp",
    "outputId": "7e162dee-f3e8-4d43-e6c6-ec42db6b2377"
   },
   "outputs": [
    {
     "data": {
      "text/plain": [
       "<tf.Tensor: shape=(), dtype=bool, numpy=True>"
      ]
     },
     "execution_count": 74,
     "metadata": {
      "tags": []
     },
     "output_type": "execute_result"
    }
   ],
   "source": [
    "tf.reduce_all(tf.abs(beta_result - beta_manual) < 1e-4)"
   ]
  },
  {
   "cell_type": "code",
   "execution_count": null,
   "metadata": {
    "id": "ik1v85Eb4oy9"
   },
   "outputs": [],
   "source": [
    "# Plotting With Plotly"
   ]
  },
  {
   "cell_type": "code",
   "execution_count": 75,
   "metadata": {
    "id": "zi4U7M3_4i67"
   },
   "outputs": [],
   "source": [
    "result = [int(tf.reduce_all(tf.abs(beta_result[i] - beta_manual[i]) < 1e-4).numpy()) for i in range(200)]\n",
    "True_Num  = result.count(1)\n",
    "False_Num = result.count(0)"
   ]
  },
  {
   "cell_type": "code",
   "execution_count": 76,
   "metadata": {
    "colab": {
     "base_uri": "https://localhost:8080/",
     "height": 417
    },
    "id": "wkd72zv54na9",
    "outputId": "f2264073-8301-4d0c-abd4-5a4373aec562"
   },
   "outputs": [
    {
     "data": {
      "text/html": [
       "<html>\n",
       "<head><meta charset=\"utf-8\" /></head>\n",
       "<body>\n",
       "    <div>\n",
       "            <script src=\"https://cdnjs.cloudflare.com/ajax/libs/mathjax/2.7.5/MathJax.js?config=TeX-AMS-MML_SVG\"></script><script type=\"text/javascript\">if (window.MathJax) {MathJax.Hub.Config({SVG: {font: \"STIX-Web\"}});}</script>\n",
       "                <script type=\"text/javascript\">window.PlotlyConfig = {MathJaxConfig: 'local'};</script>\n",
       "        <script src=\"https://cdn.plot.ly/plotly-latest.min.js\"></script>    \n",
       "            <div id=\"a725e32a-4566-49fc-82e5-86cd7ebb1509\" class=\"plotly-graph-div\" style=\"height:400px; width:700px;\"></div>\n",
       "            <script type=\"text/javascript\">\n",
       "                \n",
       "                    window.PLOTLYENV=window.PLOTLYENV || {};\n",
       "                    \n",
       "                if (document.getElementById(\"a725e32a-4566-49fc-82e5-86cd7ebb1509\")) {\n",
       "                    Plotly.newPlot(\n",
       "                        'a725e32a-4566-49fc-82e5-86cd7ebb1509',\n",
       "                        [{\"type\": \"bar\", \"x\": [\"True\", \"False\"], \"y\": [200, 0]}],\n",
       "                        {\"annotations\": [{\"font\": {\"size\": 16}, \"showarrow\": false, \"text\": \"B\", \"x\": 0.5, \"xanchor\": \"center\", \"xref\": \"paper\", \"y\": 1.0, \"yanchor\": \"bottom\", \"yref\": \"paper\"}], \"bargap\": 0.05, \"barmode\": \"relative\", \"height\": 400, \"template\": {\"data\": {\"bar\": [{\"error_x\": {\"color\": \"#2a3f5f\"}, \"error_y\": {\"color\": \"#2a3f5f\"}, \"marker\": {\"line\": {\"color\": \"#E5ECF6\", \"width\": 0.5}}, \"type\": \"bar\"}], \"barpolar\": [{\"marker\": {\"line\": {\"color\": \"#E5ECF6\", \"width\": 0.5}}, \"type\": \"barpolar\"}], \"carpet\": [{\"aaxis\": {\"endlinecolor\": \"#2a3f5f\", \"gridcolor\": \"white\", \"linecolor\": \"white\", \"minorgridcolor\": \"white\", \"startlinecolor\": \"#2a3f5f\"}, \"baxis\": {\"endlinecolor\": \"#2a3f5f\", \"gridcolor\": \"white\", \"linecolor\": \"white\", \"minorgridcolor\": \"white\", \"startlinecolor\": \"#2a3f5f\"}, \"type\": \"carpet\"}], \"choropleth\": [{\"colorbar\": {\"outlinewidth\": 0, \"ticks\": \"\"}, \"type\": \"choropleth\"}], \"contour\": [{\"colorbar\": {\"outlinewidth\": 0, \"ticks\": \"\"}, \"colorscale\": [[0.0, \"#0d0887\"], [0.1111111111111111, \"#46039f\"], [0.2222222222222222, \"#7201a8\"], [0.3333333333333333, \"#9c179e\"], [0.4444444444444444, \"#bd3786\"], [0.5555555555555556, \"#d8576b\"], [0.6666666666666666, \"#ed7953\"], [0.7777777777777778, \"#fb9f3a\"], [0.8888888888888888, \"#fdca26\"], [1.0, \"#f0f921\"]], \"type\": \"contour\"}], \"contourcarpet\": [{\"colorbar\": {\"outlinewidth\": 0, \"ticks\": \"\"}, \"type\": \"contourcarpet\"}], \"heatmap\": [{\"colorbar\": {\"outlinewidth\": 0, \"ticks\": \"\"}, \"colorscale\": [[0.0, \"#0d0887\"], [0.1111111111111111, \"#46039f\"], [0.2222222222222222, \"#7201a8\"], [0.3333333333333333, \"#9c179e\"], [0.4444444444444444, \"#bd3786\"], [0.5555555555555556, \"#d8576b\"], [0.6666666666666666, \"#ed7953\"], [0.7777777777777778, \"#fb9f3a\"], [0.8888888888888888, \"#fdca26\"], [1.0, \"#f0f921\"]], \"type\": \"heatmap\"}], \"heatmapgl\": [{\"colorbar\": {\"outlinewidth\": 0, \"ticks\": \"\"}, \"colorscale\": [[0.0, \"#0d0887\"], [0.1111111111111111, \"#46039f\"], [0.2222222222222222, \"#7201a8\"], [0.3333333333333333, \"#9c179e\"], [0.4444444444444444, \"#bd3786\"], [0.5555555555555556, \"#d8576b\"], [0.6666666666666666, \"#ed7953\"], [0.7777777777777778, \"#fb9f3a\"], [0.8888888888888888, \"#fdca26\"], [1.0, \"#f0f921\"]], \"type\": \"heatmapgl\"}], \"histogram\": [{\"marker\": {\"colorbar\": {\"outlinewidth\": 0, \"ticks\": \"\"}}, \"type\": \"histogram\"}], \"histogram2d\": [{\"colorbar\": {\"outlinewidth\": 0, \"ticks\": \"\"}, \"colorscale\": [[0.0, \"#0d0887\"], [0.1111111111111111, \"#46039f\"], [0.2222222222222222, \"#7201a8\"], [0.3333333333333333, \"#9c179e\"], [0.4444444444444444, \"#bd3786\"], [0.5555555555555556, \"#d8576b\"], [0.6666666666666666, \"#ed7953\"], [0.7777777777777778, \"#fb9f3a\"], [0.8888888888888888, \"#fdca26\"], [1.0, \"#f0f921\"]], \"type\": \"histogram2d\"}], \"histogram2dcontour\": [{\"colorbar\": {\"outlinewidth\": 0, \"ticks\": \"\"}, \"colorscale\": [[0.0, \"#0d0887\"], [0.1111111111111111, \"#46039f\"], [0.2222222222222222, \"#7201a8\"], [0.3333333333333333, \"#9c179e\"], [0.4444444444444444, \"#bd3786\"], [0.5555555555555556, \"#d8576b\"], [0.6666666666666666, \"#ed7953\"], [0.7777777777777778, \"#fb9f3a\"], [0.8888888888888888, \"#fdca26\"], [1.0, \"#f0f921\"]], \"type\": \"histogram2dcontour\"}], \"mesh3d\": [{\"colorbar\": {\"outlinewidth\": 0, \"ticks\": \"\"}, \"type\": \"mesh3d\"}], \"parcoords\": [{\"line\": {\"colorbar\": {\"outlinewidth\": 0, \"ticks\": \"\"}}, \"type\": \"parcoords\"}], \"pie\": [{\"automargin\": true, \"type\": \"pie\"}], \"scatter\": [{\"marker\": {\"colorbar\": {\"outlinewidth\": 0, \"ticks\": \"\"}}, \"type\": \"scatter\"}], \"scatter3d\": [{\"line\": {\"colorbar\": {\"outlinewidth\": 0, \"ticks\": \"\"}}, \"marker\": {\"colorbar\": {\"outlinewidth\": 0, \"ticks\": \"\"}}, \"type\": \"scatter3d\"}], \"scattercarpet\": [{\"marker\": {\"colorbar\": {\"outlinewidth\": 0, \"ticks\": \"\"}}, \"type\": \"scattercarpet\"}], \"scattergeo\": [{\"marker\": {\"colorbar\": {\"outlinewidth\": 0, \"ticks\": \"\"}}, \"type\": \"scattergeo\"}], \"scattergl\": [{\"marker\": {\"colorbar\": {\"outlinewidth\": 0, \"ticks\": \"\"}}, \"type\": \"scattergl\"}], \"scattermapbox\": [{\"marker\": {\"colorbar\": {\"outlinewidth\": 0, \"ticks\": \"\"}}, \"type\": \"scattermapbox\"}], \"scatterpolar\": [{\"marker\": {\"colorbar\": {\"outlinewidth\": 0, \"ticks\": \"\"}}, \"type\": \"scatterpolar\"}], \"scatterpolargl\": [{\"marker\": {\"colorbar\": {\"outlinewidth\": 0, \"ticks\": \"\"}}, \"type\": \"scatterpolargl\"}], \"scatterternary\": [{\"marker\": {\"colorbar\": {\"outlinewidth\": 0, \"ticks\": \"\"}}, \"type\": \"scatterternary\"}], \"surface\": [{\"colorbar\": {\"outlinewidth\": 0, \"ticks\": \"\"}, \"colorscale\": [[0.0, \"#0d0887\"], [0.1111111111111111, \"#46039f\"], [0.2222222222222222, \"#7201a8\"], [0.3333333333333333, \"#9c179e\"], [0.4444444444444444, \"#bd3786\"], [0.5555555555555556, \"#d8576b\"], [0.6666666666666666, \"#ed7953\"], [0.7777777777777778, \"#fb9f3a\"], [0.8888888888888888, \"#fdca26\"], [1.0, \"#f0f921\"]], \"type\": \"surface\"}], \"table\": [{\"cells\": {\"fill\": {\"color\": \"#EBF0F8\"}, \"line\": {\"color\": \"white\"}}, \"header\": {\"fill\": {\"color\": \"#C8D4E3\"}, \"line\": {\"color\": \"white\"}}, \"type\": \"table\"}]}, \"layout\": {\"annotationdefaults\": {\"arrowcolor\": \"#2a3f5f\", \"arrowhead\": 0, \"arrowwidth\": 1}, \"coloraxis\": {\"colorbar\": {\"outlinewidth\": 0, \"ticks\": \"\"}}, \"colorscale\": {\"diverging\": [[0, \"#8e0152\"], [0.1, \"#c51b7d\"], [0.2, \"#de77ae\"], [0.3, \"#f1b6da\"], [0.4, \"#fde0ef\"], [0.5, \"#f7f7f7\"], [0.6, \"#e6f5d0\"], [0.7, \"#b8e186\"], [0.8, \"#7fbc41\"], [0.9, \"#4d9221\"], [1, \"#276419\"]], \"sequential\": [[0.0, \"#0d0887\"], [0.1111111111111111, \"#46039f\"], [0.2222222222222222, \"#7201a8\"], [0.3333333333333333, \"#9c179e\"], [0.4444444444444444, \"#bd3786\"], [0.5555555555555556, \"#d8576b\"], [0.6666666666666666, \"#ed7953\"], [0.7777777777777778, \"#fb9f3a\"], [0.8888888888888888, \"#fdca26\"], [1.0, \"#f0f921\"]], \"sequentialminus\": [[0.0, \"#0d0887\"], [0.1111111111111111, \"#46039f\"], [0.2222222222222222, \"#7201a8\"], [0.3333333333333333, \"#9c179e\"], [0.4444444444444444, \"#bd3786\"], [0.5555555555555556, \"#d8576b\"], [0.6666666666666666, \"#ed7953\"], [0.7777777777777778, \"#fb9f3a\"], [0.8888888888888888, \"#fdca26\"], [1.0, \"#f0f921\"]]}, \"colorway\": [\"#636efa\", \"#EF553B\", \"#00cc96\", \"#ab63fa\", \"#FFA15A\", \"#19d3f3\", \"#FF6692\", \"#B6E880\", \"#FF97FF\", \"#FECB52\"], \"font\": {\"color\": \"#2a3f5f\"}, \"geo\": {\"bgcolor\": \"white\", \"lakecolor\": \"white\", \"landcolor\": \"#E5ECF6\", \"showlakes\": true, \"showland\": true, \"subunitcolor\": \"white\"}, \"hoverlabel\": {\"align\": \"left\"}, \"hovermode\": \"closest\", \"mapbox\": {\"style\": \"light\"}, \"paper_bgcolor\": \"white\", \"plot_bgcolor\": \"#E5ECF6\", \"polar\": {\"angularaxis\": {\"gridcolor\": \"white\", \"linecolor\": \"white\", \"ticks\": \"\"}, \"bgcolor\": \"#E5ECF6\", \"radialaxis\": {\"gridcolor\": \"white\", \"linecolor\": \"white\", \"ticks\": \"\"}}, \"scene\": {\"xaxis\": {\"backgroundcolor\": \"#E5ECF6\", \"gridcolor\": \"white\", \"gridwidth\": 2, \"linecolor\": \"white\", \"showbackground\": true, \"ticks\": \"\", \"zerolinecolor\": \"white\"}, \"yaxis\": {\"backgroundcolor\": \"#E5ECF6\", \"gridcolor\": \"white\", \"gridwidth\": 2, \"linecolor\": \"white\", \"showbackground\": true, \"ticks\": \"\", \"zerolinecolor\": \"white\"}, \"zaxis\": {\"backgroundcolor\": \"#E5ECF6\", \"gridcolor\": \"white\", \"gridwidth\": 2, \"linecolor\": \"white\", \"showbackground\": true, \"ticks\": \"\", \"zerolinecolor\": \"white\"}}, \"shapedefaults\": {\"line\": {\"color\": \"#2a3f5f\"}}, \"ternary\": {\"aaxis\": {\"gridcolor\": \"white\", \"linecolor\": \"white\", \"ticks\": \"\"}, \"baxis\": {\"gridcolor\": \"white\", \"linecolor\": \"white\", \"ticks\": \"\"}, \"bgcolor\": \"#E5ECF6\", \"caxis\": {\"gridcolor\": \"white\", \"linecolor\": \"white\", \"ticks\": \"\"}}, \"title\": {\"x\": 0.05}, \"xaxis\": {\"automargin\": true, \"gridcolor\": \"white\", \"linecolor\": \"white\", \"ticks\": \"\", \"title\": {\"standoff\": 15}, \"zerolinecolor\": \"white\", \"zerolinewidth\": 2}, \"yaxis\": {\"automargin\": true, \"gridcolor\": \"white\", \"linecolor\": \"white\", \"ticks\": \"\", \"title\": {\"standoff\": 15}, \"zerolinecolor\": \"white\", \"zerolinewidth\": 2}}}, \"width\": 700, \"xaxis\": {\"anchor\": \"y\", \"domain\": [0.0, 1.0]}, \"yaxis\": {\"anchor\": \"x\", \"domain\": [0.0, 1.0]}},\n",
       "                        {\"responsive\": true}\n",
       "                    ).then(function(){\n",
       "                            \n",
       "var gd = document.getElementById('a725e32a-4566-49fc-82e5-86cd7ebb1509');\n",
       "var x = new MutationObserver(function (mutations, observer) {{\n",
       "        var display = window.getComputedStyle(gd).display;\n",
       "        if (!display || display === 'none') {{\n",
       "            console.log([gd, 'removed!']);\n",
       "            Plotly.purge(gd);\n",
       "            observer.disconnect();\n",
       "        }}\n",
       "}});\n",
       "\n",
       "// Listen for the removal of the full notebook cells\n",
       "var notebookContainer = gd.closest('#notebook-container');\n",
       "if (notebookContainer) {{\n",
       "    x.observe(notebookContainer, {childList: true});\n",
       "}}\n",
       "\n",
       "// Listen for the clearing of the current output cell\n",
       "var outputEl = gd.closest('.output');\n",
       "if (outputEl) {{\n",
       "    x.observe(outputEl, {childList: true});\n",
       "}}\n",
       "\n",
       "                        })\n",
       "                };\n",
       "                \n",
       "            </script>\n",
       "        </div>\n",
       "</body>\n",
       "</html>"
      ]
     },
     "metadata": {
      "tags": []
     },
     "output_type": "display_data"
    }
   ],
   "source": [
    "fig = make_subplots(rows=1, cols=1, subplot_titles=('Beta'))\n",
    "fig.add_trace(go.Bar(x=['True',\"False\"], y=[True_Num, False_Num]))\n",
    "fig.update_layout(barmode='relative',  bargap=0.05, width=700, height=400)"
   ]
  },
  {
   "cell_type": "markdown",
   "metadata": {
    "id": "7yjnVl6Ysm7F"
   },
   "source": [
    "### Exercise 3: PELU in practice\n",
    "\n",
    "Consider a simple model built with the PELU activation function, as below."
   ]
  },
  {
   "cell_type": "code",
   "execution_count": 52,
   "metadata": {
    "id": "htJHJaRX-t1x"
   },
   "outputs": [],
   "source": [
    "model_PELU = tf.keras.Sequential(layers=[\n",
    "      tf.keras.layers.Flatten(),                              \n",
    "      tf.keras.layers.Dense(50),\n",
    "      PELU(50),\n",
    "      tf.keras.layers.Dense(10, activation='softmax')\n",
    "])"
   ]
  },
  {
   "cell_type": "code",
   "execution_count": 53,
   "metadata": {
    "id": "HF5S67DDs7xr"
   },
   "outputs": [],
   "source": [
    "model_RELU = tf.keras.Sequential(layers=[\n",
    "      tf.keras.layers.Flatten(),                              \n",
    "      tf.keras.layers.Dense(50),\n",
    "      tf.keras.layers.ReLU(50),\n",
    "      tf.keras.layers.Dense(10, activation='softmax')\n",
    "])"
   ]
  },
  {
   "cell_type": "code",
   "execution_count": 54,
   "metadata": {
    "id": "_9ZvJvNM6ZsD"
   },
   "outputs": [],
   "source": [
    "# Loading the FASHION_MNIST Dataset"
   ]
  },
  {
   "cell_type": "code",
   "execution_count": 55,
   "metadata": {
    "id": "fm83f2BplkXP"
   },
   "outputs": [],
   "source": [
    "mnist = tf.keras.datasets.fashion_mnist\n",
    "(training_images, training_labels), (test_images, test_labels) = mnist.load_data()"
   ]
  },
  {
   "cell_type": "code",
   "execution_count": 56,
   "metadata": {
    "id": "flSwcb16lv3A"
   },
   "outputs": [],
   "source": [
    "training_images  = training_images / 255.0\n",
    "test_images = test_images / 255.0"
   ]
  },
  {
   "cell_type": "code",
   "execution_count": 57,
   "metadata": {
    "colab": {
     "base_uri": "https://localhost:8080/"
    },
    "id": "-3NZQ8grlxmI",
    "outputId": "3f119c15-7160-4e40-b3dd-d0547a5d218a"
   },
   "outputs": [
    {
     "name": "stdout",
     "output_type": "stream",
     "text": [
      "Epoch 1/250\n",
      "1875/1875 [==============================] - 3s 2ms/step - loss: 0.5082 - accuracy: 0.8203\n",
      "Epoch 2/250\n",
      "1875/1875 [==============================] - 3s 2ms/step - loss: 0.3834 - accuracy: 0.8613\n",
      "Epoch 3/250\n",
      "1875/1875 [==============================] - 3s 2ms/step - loss: 0.3481 - accuracy: 0.8728\n",
      "Epoch 4/250\n",
      "1875/1875 [==============================] - 3s 2ms/step - loss: 0.3251 - accuracy: 0.8803\n",
      "Epoch 5/250\n",
      "1875/1875 [==============================] - 3s 2ms/step - loss: 0.3083 - accuracy: 0.8852\n",
      "Epoch 6/250\n",
      "1875/1875 [==============================] - 3s 2ms/step - loss: 0.2947 - accuracy: 0.8912\n",
      "Epoch 7/250\n",
      "1875/1875 [==============================] - 3s 2ms/step - loss: 0.2838 - accuracy: 0.8939\n",
      "Epoch 8/250\n",
      "1875/1875 [==============================] - 4s 2ms/step - loss: 0.2747 - accuracy: 0.8966\n",
      "Epoch 9/250\n",
      "1875/1875 [==============================] - 4s 2ms/step - loss: 0.2655 - accuracy: 0.9010\n",
      "Epoch 10/250\n",
      "1875/1875 [==============================] - 3s 2ms/step - loss: 0.2573 - accuracy: 0.9028\n",
      "Epoch 11/250\n",
      "1875/1875 [==============================] - 3s 2ms/step - loss: 0.2493 - accuracy: 0.9064\n",
      "Epoch 12/250\n",
      "1875/1875 [==============================] - 3s 2ms/step - loss: 0.2423 - accuracy: 0.9084\n",
      "Epoch 13/250\n",
      "1875/1875 [==============================] - 3s 2ms/step - loss: 0.2388 - accuracy: 0.9103\n",
      "Epoch 14/250\n",
      "1875/1875 [==============================] - 3s 2ms/step - loss: 0.2327 - accuracy: 0.9133\n",
      "Epoch 15/250\n",
      "1875/1875 [==============================] - 3s 2ms/step - loss: 0.2254 - accuracy: 0.9160\n",
      "Epoch 16/250\n",
      "1875/1875 [==============================] - 3s 2ms/step - loss: 0.2220 - accuracy: 0.9171\n",
      "Epoch 17/250\n",
      "1875/1875 [==============================] - 3s 2ms/step - loss: 0.2169 - accuracy: 0.9186\n",
      "Epoch 18/250\n",
      "1875/1875 [==============================] - 3s 2ms/step - loss: 0.2141 - accuracy: 0.9199\n",
      "Epoch 19/250\n",
      "1875/1875 [==============================] - 3s 2ms/step - loss: 0.2088 - accuracy: 0.9219\n",
      "Epoch 20/250\n",
      "1875/1875 [==============================] - 3s 2ms/step - loss: 0.2074 - accuracy: 0.9216\n",
      "Epoch 21/250\n",
      "1875/1875 [==============================] - 3s 2ms/step - loss: 0.2019 - accuracy: 0.9240\n",
      "Epoch 22/250\n",
      "1875/1875 [==============================] - 3s 2ms/step - loss: 0.1966 - accuracy: 0.9263\n",
      "Epoch 23/250\n",
      "1875/1875 [==============================] - 3s 2ms/step - loss: 0.1950 - accuracy: 0.9265\n",
      "Epoch 24/250\n",
      "1875/1875 [==============================] - 3s 2ms/step - loss: 0.1915 - accuracy: 0.9291\n",
      "Epoch 25/250\n",
      "1875/1875 [==============================] - 3s 2ms/step - loss: 0.1871 - accuracy: 0.9301\n",
      "Epoch 26/250\n",
      "1875/1875 [==============================] - 3s 2ms/step - loss: 0.1846 - accuracy: 0.9291\n",
      "Epoch 27/250\n",
      "1875/1875 [==============================] - 3s 2ms/step - loss: 0.1830 - accuracy: 0.9318\n",
      "Epoch 28/250\n",
      "1875/1875 [==============================] - 3s 2ms/step - loss: 0.1813 - accuracy: 0.9312\n",
      "Epoch 29/250\n",
      "1875/1875 [==============================] - 3s 2ms/step - loss: 0.1764 - accuracy: 0.9344\n",
      "Epoch 30/250\n",
      "1875/1875 [==============================] - 3s 2ms/step - loss: 0.1746 - accuracy: 0.9351\n",
      "Epoch 31/250\n",
      "1875/1875 [==============================] - 3s 2ms/step - loss: 0.1719 - accuracy: 0.9360\n",
      "Epoch 32/250\n",
      "1875/1875 [==============================] - 3s 2ms/step - loss: 0.1705 - accuracy: 0.9358\n",
      "Epoch 33/250\n",
      "1875/1875 [==============================] - 3s 2ms/step - loss: 0.1681 - accuracy: 0.9367\n",
      "Epoch 34/250\n",
      "1875/1875 [==============================] - 3s 2ms/step - loss: 0.1651 - accuracy: 0.9379\n",
      "Epoch 35/250\n",
      "1875/1875 [==============================] - 3s 2ms/step - loss: 0.1631 - accuracy: 0.9379\n",
      "Epoch 36/250\n",
      "1875/1875 [==============================] - 3s 2ms/step - loss: 0.1621 - accuracy: 0.9389\n",
      "Epoch 37/250\n",
      "1875/1875 [==============================] - 3s 2ms/step - loss: 0.1597 - accuracy: 0.9398\n",
      "Epoch 38/250\n",
      "1875/1875 [==============================] - 3s 2ms/step - loss: 0.1577 - accuracy: 0.9403\n",
      "Epoch 39/250\n",
      "1875/1875 [==============================] - 3s 2ms/step - loss: 0.1537 - accuracy: 0.9420\n",
      "Epoch 40/250\n",
      "1875/1875 [==============================] - 3s 2ms/step - loss: 0.1529 - accuracy: 0.9426\n",
      "Epoch 41/250\n",
      "1875/1875 [==============================] - 3s 2ms/step - loss: 0.1540 - accuracy: 0.9414\n",
      "Epoch 42/250\n",
      "1875/1875 [==============================] - 3s 2ms/step - loss: 0.1495 - accuracy: 0.9437\n",
      "Epoch 43/250\n",
      "1875/1875 [==============================] - 3s 2ms/step - loss: 0.1480 - accuracy: 0.9444\n",
      "Epoch 44/250\n",
      "1875/1875 [==============================] - 3s 2ms/step - loss: 0.1464 - accuracy: 0.9453\n",
      "Epoch 45/250\n",
      "1875/1875 [==============================] - 3s 2ms/step - loss: 0.1449 - accuracy: 0.9452\n",
      "Epoch 46/250\n",
      "1875/1875 [==============================] - 3s 2ms/step - loss: 0.1421 - accuracy: 0.9474\n",
      "Epoch 47/250\n",
      "1875/1875 [==============================] - 3s 2ms/step - loss: 0.1411 - accuracy: 0.9464\n",
      "Epoch 48/250\n",
      "1875/1875 [==============================] - 3s 2ms/step - loss: 0.1415 - accuracy: 0.9469\n",
      "Epoch 49/250\n",
      "1875/1875 [==============================] - 3s 2ms/step - loss: 0.1361 - accuracy: 0.9491\n",
      "Epoch 50/250\n",
      "1875/1875 [==============================] - 3s 2ms/step - loss: 0.1383 - accuracy: 0.9474\n",
      "Epoch 51/250\n",
      "1875/1875 [==============================] - 3s 2ms/step - loss: 0.1354 - accuracy: 0.9502\n",
      "Epoch 52/250\n",
      "1875/1875 [==============================] - 3s 2ms/step - loss: 0.1339 - accuracy: 0.9498\n",
      "Epoch 53/250\n",
      "1875/1875 [==============================] - 3s 2ms/step - loss: 0.1351 - accuracy: 0.9490\n",
      "Epoch 54/250\n",
      "1875/1875 [==============================] - 3s 2ms/step - loss: 0.1312 - accuracy: 0.9501\n",
      "Epoch 55/250\n",
      "1875/1875 [==============================] - 3s 2ms/step - loss: 0.1300 - accuracy: 0.9524\n",
      "Epoch 56/250\n",
      "1875/1875 [==============================] - 3s 2ms/step - loss: 0.1296 - accuracy: 0.9512\n",
      "Epoch 57/250\n",
      "1875/1875 [==============================] - 3s 2ms/step - loss: 0.1263 - accuracy: 0.9528\n",
      "Epoch 58/250\n",
      "1875/1875 [==============================] - 3s 2ms/step - loss: 0.1274 - accuracy: 0.9520\n",
      "Epoch 59/250\n",
      "1875/1875 [==============================] - 3s 2ms/step - loss: 0.1252 - accuracy: 0.9534\n",
      "Epoch 60/250\n",
      "1875/1875 [==============================] - 3s 2ms/step - loss: 0.1263 - accuracy: 0.9531\n",
      "Epoch 61/250\n",
      "1875/1875 [==============================] - 3s 2ms/step - loss: 0.1236 - accuracy: 0.9533\n",
      "Epoch 62/250\n",
      "1875/1875 [==============================] - 3s 2ms/step - loss: 0.1221 - accuracy: 0.9534\n",
      "Epoch 63/250\n",
      "1875/1875 [==============================] - 3s 2ms/step - loss: 0.1211 - accuracy: 0.9555\n",
      "Epoch 64/250\n",
      "1875/1875 [==============================] - 3s 2ms/step - loss: 0.1184 - accuracy: 0.9554\n",
      "Epoch 65/250\n",
      "1875/1875 [==============================] - 3s 2ms/step - loss: 0.1210 - accuracy: 0.9550\n",
      "Epoch 66/250\n",
      "1875/1875 [==============================] - 3s 2ms/step - loss: 0.1184 - accuracy: 0.9553\n",
      "Epoch 67/250\n",
      "1875/1875 [==============================] - 3s 2ms/step - loss: 0.1158 - accuracy: 0.9564\n",
      "Epoch 68/250\n",
      "1875/1875 [==============================] - 3s 2ms/step - loss: 0.1176 - accuracy: 0.9565\n",
      "Epoch 69/250\n",
      "1875/1875 [==============================] - 3s 2ms/step - loss: 0.1159 - accuracy: 0.9561\n",
      "Epoch 70/250\n",
      "1875/1875 [==============================] - 3s 2ms/step - loss: 0.1143 - accuracy: 0.9577\n",
      "Epoch 71/250\n",
      "1875/1875 [==============================] - 3s 2ms/step - loss: 0.1113 - accuracy: 0.9587\n",
      "Epoch 72/250\n",
      "1875/1875 [==============================] - 3s 2ms/step - loss: 0.1124 - accuracy: 0.9578\n",
      "Epoch 73/250\n",
      "1875/1875 [==============================] - 3s 2ms/step - loss: 0.1079 - accuracy: 0.9589\n",
      "Epoch 74/250\n",
      "1875/1875 [==============================] - 3s 2ms/step - loss: 0.1115 - accuracy: 0.9590\n",
      "Epoch 75/250\n",
      "1875/1875 [==============================] - 3s 2ms/step - loss: 0.1074 - accuracy: 0.9604\n",
      "Epoch 76/250\n",
      "1875/1875 [==============================] - 3s 2ms/step - loss: 0.1096 - accuracy: 0.9595\n",
      "Epoch 77/250\n",
      "1875/1875 [==============================] - 3s 2ms/step - loss: 0.1064 - accuracy: 0.9598\n",
      "Epoch 78/250\n",
      "1875/1875 [==============================] - 3s 2ms/step - loss: 0.1062 - accuracy: 0.9604\n",
      "Epoch 79/250\n",
      "1875/1875 [==============================] - 3s 2ms/step - loss: 0.1050 - accuracy: 0.9600\n",
      "Epoch 80/250\n",
      "1875/1875 [==============================] - 3s 2ms/step - loss: 0.1060 - accuracy: 0.9602\n",
      "Epoch 81/250\n",
      "1875/1875 [==============================] - 3s 2ms/step - loss: 0.1029 - accuracy: 0.9621\n",
      "Epoch 82/250\n",
      "1875/1875 [==============================] - 3s 2ms/step - loss: 0.1035 - accuracy: 0.9614\n",
      "Epoch 83/250\n",
      "1875/1875 [==============================] - 3s 2ms/step - loss: 0.1007 - accuracy: 0.9628\n",
      "Epoch 84/250\n",
      "1875/1875 [==============================] - 3s 2ms/step - loss: 0.1013 - accuracy: 0.9624\n",
      "Epoch 85/250\n",
      "1875/1875 [==============================] - 3s 2ms/step - loss: 0.1016 - accuracy: 0.9621\n",
      "Epoch 86/250\n",
      "1875/1875 [==============================] - 3s 2ms/step - loss: 0.0998 - accuracy: 0.9626\n",
      "Epoch 87/250\n",
      "1875/1875 [==============================] - 3s 2ms/step - loss: 0.0996 - accuracy: 0.9632\n",
      "Epoch 88/250\n",
      "1875/1875 [==============================] - 3s 2ms/step - loss: 0.0976 - accuracy: 0.9642\n",
      "Epoch 89/250\n",
      "1875/1875 [==============================] - 3s 2ms/step - loss: 0.0969 - accuracy: 0.9634\n",
      "Epoch 90/250\n",
      "1875/1875 [==============================] - 3s 2ms/step - loss: 0.0974 - accuracy: 0.9641\n",
      "Epoch 91/250\n",
      "1875/1875 [==============================] - 3s 2ms/step - loss: 0.0969 - accuracy: 0.9640\n",
      "Epoch 92/250\n",
      "1875/1875 [==============================] - 3s 2ms/step - loss: 0.0942 - accuracy: 0.9651\n",
      "Epoch 93/250\n",
      "1875/1875 [==============================] - 3s 2ms/step - loss: 0.0955 - accuracy: 0.9638\n",
      "Epoch 94/250\n",
      "1875/1875 [==============================] - 3s 2ms/step - loss: 0.0948 - accuracy: 0.9639\n",
      "Epoch 95/250\n",
      "1875/1875 [==============================] - 3s 2ms/step - loss: 0.0915 - accuracy: 0.9660\n",
      "Epoch 96/250\n",
      "1875/1875 [==============================] - 3s 2ms/step - loss: 0.0946 - accuracy: 0.9653\n",
      "Epoch 97/250\n",
      "1875/1875 [==============================] - 3s 2ms/step - loss: 0.0923 - accuracy: 0.9653\n",
      "Epoch 98/250\n",
      "1875/1875 [==============================] - 3s 2ms/step - loss: 0.0904 - accuracy: 0.9661\n",
      "Epoch 99/250\n",
      "1875/1875 [==============================] - 3s 2ms/step - loss: 0.0917 - accuracy: 0.9656\n",
      "Epoch 100/250\n",
      "1875/1875 [==============================] - 3s 2ms/step - loss: 0.0894 - accuracy: 0.9663\n",
      "Epoch 101/250\n",
      "1875/1875 [==============================] - 3s 2ms/step - loss: 0.0903 - accuracy: 0.9656\n",
      "Epoch 102/250\n",
      "1875/1875 [==============================] - 3s 2ms/step - loss: 0.0881 - accuracy: 0.9675\n",
      "Epoch 103/250\n",
      "1875/1875 [==============================] - 3s 2ms/step - loss: 0.0894 - accuracy: 0.9659\n",
      "Epoch 104/250\n",
      "1875/1875 [==============================] - 3s 2ms/step - loss: 0.0859 - accuracy: 0.9685\n",
      "Epoch 105/250\n",
      "1875/1875 [==============================] - 3s 2ms/step - loss: 0.0874 - accuracy: 0.9678\n",
      "Epoch 106/250\n",
      "1875/1875 [==============================] - 3s 2ms/step - loss: 0.0863 - accuracy: 0.9676\n",
      "Epoch 107/250\n",
      "1875/1875 [==============================] - 3s 2ms/step - loss: 0.0844 - accuracy: 0.9689\n",
      "Epoch 108/250\n",
      "1875/1875 [==============================] - 3s 2ms/step - loss: 0.0859 - accuracy: 0.9676\n",
      "Epoch 109/250\n",
      "1875/1875 [==============================] - 3s 2ms/step - loss: 0.0848 - accuracy: 0.9689\n",
      "Epoch 110/250\n",
      "1875/1875 [==============================] - 3s 2ms/step - loss: 0.0833 - accuracy: 0.9692\n",
      "Epoch 111/250\n",
      "1875/1875 [==============================] - 4s 2ms/step - loss: 0.0840 - accuracy: 0.9690\n",
      "Epoch 112/250\n",
      "1875/1875 [==============================] - 4s 2ms/step - loss: 0.0846 - accuracy: 0.9686\n",
      "Epoch 113/250\n",
      "1875/1875 [==============================] - 3s 2ms/step - loss: 0.0839 - accuracy: 0.9690\n",
      "Epoch 114/250\n",
      "1875/1875 [==============================] - 3s 2ms/step - loss: 0.0808 - accuracy: 0.9694\n",
      "Epoch 115/250\n",
      "1875/1875 [==============================] - 3s 2ms/step - loss: 0.0825 - accuracy: 0.9694\n",
      "Epoch 116/250\n",
      "1875/1875 [==============================] - 3s 2ms/step - loss: 0.0838 - accuracy: 0.9683\n",
      "Epoch 117/250\n",
      "1875/1875 [==============================] - 3s 2ms/step - loss: 0.0793 - accuracy: 0.9705\n",
      "Epoch 118/250\n",
      "1875/1875 [==============================] - 3s 2ms/step - loss: 0.0813 - accuracy: 0.9690\n",
      "Epoch 119/250\n",
      "1875/1875 [==============================] - 3s 2ms/step - loss: 0.0831 - accuracy: 0.9690\n",
      "Epoch 120/250\n",
      "1875/1875 [==============================] - 3s 2ms/step - loss: 0.0778 - accuracy: 0.9714\n",
      "Epoch 121/250\n",
      "1875/1875 [==============================] - 3s 2ms/step - loss: 0.0790 - accuracy: 0.9706\n",
      "Epoch 122/250\n",
      "1875/1875 [==============================] - 3s 2ms/step - loss: 0.0803 - accuracy: 0.9701\n",
      "Epoch 123/250\n",
      "1875/1875 [==============================] - 3s 2ms/step - loss: 0.0798 - accuracy: 0.9709\n",
      "Epoch 124/250\n",
      "1875/1875 [==============================] - 3s 2ms/step - loss: 0.0758 - accuracy: 0.9718\n",
      "Epoch 125/250\n",
      "1875/1875 [==============================] - 3s 2ms/step - loss: 0.0800 - accuracy: 0.9706\n",
      "Epoch 126/250\n",
      "1875/1875 [==============================] - 3s 2ms/step - loss: 0.0746 - accuracy: 0.9721\n",
      "Epoch 127/250\n",
      "1875/1875 [==============================] - 3s 2ms/step - loss: 0.0767 - accuracy: 0.9713\n",
      "Epoch 128/250\n",
      "1875/1875 [==============================] - 3s 2ms/step - loss: 0.0763 - accuracy: 0.9714\n",
      "Epoch 129/250\n",
      "1875/1875 [==============================] - 3s 2ms/step - loss: 0.0747 - accuracy: 0.9725\n",
      "Epoch 130/250\n",
      "1875/1875 [==============================] - 3s 2ms/step - loss: 0.0754 - accuracy: 0.9725\n",
      "Epoch 131/250\n",
      "1875/1875 [==============================] - 3s 2ms/step - loss: 0.0745 - accuracy: 0.9725\n",
      "Epoch 132/250\n",
      "1875/1875 [==============================] - 3s 2ms/step - loss: 0.0765 - accuracy: 0.9715\n",
      "Epoch 133/250\n",
      "1875/1875 [==============================] - 3s 2ms/step - loss: 0.0733 - accuracy: 0.9723\n",
      "Epoch 134/250\n",
      "1875/1875 [==============================] - 3s 2ms/step - loss: 0.0737 - accuracy: 0.9725\n",
      "Epoch 135/250\n",
      "1875/1875 [==============================] - 3s 2ms/step - loss: 0.0736 - accuracy: 0.9726\n",
      "Epoch 136/250\n",
      "1875/1875 [==============================] - 3s 2ms/step - loss: 0.0719 - accuracy: 0.9734\n",
      "Epoch 137/250\n",
      "1875/1875 [==============================] - 3s 2ms/step - loss: 0.0720 - accuracy: 0.9736\n",
      "Epoch 138/250\n",
      "1875/1875 [==============================] - 3s 2ms/step - loss: 0.0721 - accuracy: 0.9722\n",
      "Epoch 139/250\n",
      "1875/1875 [==============================] - 3s 2ms/step - loss: 0.0718 - accuracy: 0.9730\n",
      "Epoch 140/250\n",
      "1875/1875 [==============================] - 3s 2ms/step - loss: 0.0708 - accuracy: 0.9739\n",
      "Epoch 141/250\n",
      "1875/1875 [==============================] - 3s 2ms/step - loss: 0.0682 - accuracy: 0.9750\n",
      "Epoch 142/250\n",
      "1875/1875 [==============================] - 3s 2ms/step - loss: 0.0700 - accuracy: 0.9740\n",
      "Epoch 143/250\n",
      "1875/1875 [==============================] - 3s 2ms/step - loss: 0.0710 - accuracy: 0.9732\n",
      "Epoch 144/250\n",
      "1875/1875 [==============================] - 3s 2ms/step - loss: 0.0698 - accuracy: 0.9739\n",
      "Epoch 145/250\n",
      "1875/1875 [==============================] - 3s 2ms/step - loss: 0.0687 - accuracy: 0.9743\n",
      "Epoch 146/250\n",
      "1875/1875 [==============================] - 3s 2ms/step - loss: 0.0680 - accuracy: 0.9747\n",
      "Epoch 147/250\n",
      "1875/1875 [==============================] - 3s 2ms/step - loss: 0.0676 - accuracy: 0.9747\n",
      "Epoch 148/250\n",
      "1875/1875 [==============================] - 3s 2ms/step - loss: 0.0679 - accuracy: 0.9744\n",
      "Epoch 149/250\n",
      "1875/1875 [==============================] - 3s 2ms/step - loss: 0.0662 - accuracy: 0.9747\n",
      "Epoch 150/250\n",
      "1875/1875 [==============================] - 3s 2ms/step - loss: 0.0681 - accuracy: 0.9754\n",
      "Epoch 151/250\n",
      "1875/1875 [==============================] - 3s 2ms/step - loss: 0.0670 - accuracy: 0.9751\n",
      "Epoch 152/250\n",
      "1875/1875 [==============================] - 3s 2ms/step - loss: 0.0684 - accuracy: 0.9738\n",
      "Epoch 153/250\n",
      "1875/1875 [==============================] - 3s 2ms/step - loss: 0.0643 - accuracy: 0.9758\n",
      "Epoch 154/250\n",
      "1875/1875 [==============================] - 3s 2ms/step - loss: 0.0657 - accuracy: 0.9750\n",
      "Epoch 155/250\n",
      "1875/1875 [==============================] - 3s 2ms/step - loss: 0.0651 - accuracy: 0.9756\n",
      "Epoch 156/250\n",
      "1875/1875 [==============================] - 3s 2ms/step - loss: 0.0652 - accuracy: 0.9760\n",
      "Epoch 157/250\n",
      "1875/1875 [==============================] - 3s 2ms/step - loss: 0.0627 - accuracy: 0.9766\n",
      "Epoch 158/250\n",
      "1875/1875 [==============================] - 3s 2ms/step - loss: 0.0656 - accuracy: 0.9754\n",
      "Epoch 159/250\n",
      "1875/1875 [==============================] - 3s 2ms/step - loss: 0.0660 - accuracy: 0.9753\n",
      "Epoch 160/250\n",
      "1875/1875 [==============================] - 3s 2ms/step - loss: 0.0639 - accuracy: 0.9764\n",
      "Epoch 161/250\n",
      "1875/1875 [==============================] - 3s 2ms/step - loss: 0.0631 - accuracy: 0.9768\n",
      "Epoch 162/250\n",
      "1875/1875 [==============================] - 3s 2ms/step - loss: 0.0646 - accuracy: 0.9765\n",
      "Epoch 163/250\n",
      "1875/1875 [==============================] - 3s 2ms/step - loss: 0.0597 - accuracy: 0.9781\n",
      "Epoch 164/250\n",
      "1875/1875 [==============================] - 3s 2ms/step - loss: 0.0641 - accuracy: 0.9757\n",
      "Epoch 165/250\n",
      "1875/1875 [==============================] - 3s 2ms/step - loss: 0.0613 - accuracy: 0.9776\n",
      "Epoch 166/250\n",
      "1875/1875 [==============================] - 3s 2ms/step - loss: 0.0608 - accuracy: 0.9773\n",
      "Epoch 167/250\n",
      "1875/1875 [==============================] - 3s 2ms/step - loss: 0.0631 - accuracy: 0.9764\n",
      "Epoch 168/250\n",
      "1875/1875 [==============================] - 3s 2ms/step - loss: 0.0615 - accuracy: 0.9776\n",
      "Epoch 169/250\n",
      "1875/1875 [==============================] - 3s 2ms/step - loss: 0.0607 - accuracy: 0.9771\n",
      "Epoch 170/250\n",
      "1875/1875 [==============================] - 3s 2ms/step - loss: 0.0597 - accuracy: 0.9785\n",
      "Epoch 171/250\n",
      "1875/1875 [==============================] - 3s 2ms/step - loss: 0.0600 - accuracy: 0.9776\n",
      "Epoch 172/250\n",
      "1875/1875 [==============================] - 3s 2ms/step - loss: 0.0580 - accuracy: 0.9782\n",
      "Epoch 173/250\n",
      "1875/1875 [==============================] - 3s 2ms/step - loss: 0.0597 - accuracy: 0.9775\n",
      "Epoch 174/250\n",
      "1875/1875 [==============================] - 3s 2ms/step - loss: 0.0603 - accuracy: 0.9775\n",
      "Epoch 175/250\n",
      "1875/1875 [==============================] - 3s 2ms/step - loss: 0.0576 - accuracy: 0.9786\n",
      "Epoch 176/250\n",
      "1875/1875 [==============================] - 3s 2ms/step - loss: 0.0593 - accuracy: 0.9780\n",
      "Epoch 177/250\n",
      "1875/1875 [==============================] - 3s 2ms/step - loss: 0.0599 - accuracy: 0.9779\n",
      "Epoch 178/250\n",
      "1875/1875 [==============================] - 3s 2ms/step - loss: 0.0570 - accuracy: 0.9786\n",
      "Epoch 179/250\n",
      "1875/1875 [==============================] - 3s 2ms/step - loss: 0.0570 - accuracy: 0.9787\n",
      "Epoch 180/250\n",
      "1875/1875 [==============================] - 3s 2ms/step - loss: 0.0594 - accuracy: 0.9773\n",
      "Epoch 181/250\n",
      "1875/1875 [==============================] - 3s 2ms/step - loss: 0.0543 - accuracy: 0.9798\n",
      "Epoch 182/250\n",
      "1875/1875 [==============================] - 3s 2ms/step - loss: 0.0570 - accuracy: 0.9788\n",
      "Epoch 183/250\n",
      "1875/1875 [==============================] - 3s 2ms/step - loss: 0.0571 - accuracy: 0.9786\n",
      "Epoch 184/250\n",
      "1875/1875 [==============================] - 3s 2ms/step - loss: 0.0579 - accuracy: 0.9777\n",
      "Epoch 185/250\n",
      "1875/1875 [==============================] - 3s 2ms/step - loss: 0.0554 - accuracy: 0.9798\n",
      "Epoch 186/250\n",
      "1875/1875 [==============================] - 3s 2ms/step - loss: 0.0555 - accuracy: 0.9796\n",
      "Epoch 187/250\n",
      "1875/1875 [==============================] - 3s 2ms/step - loss: 0.0548 - accuracy: 0.9789\n",
      "Epoch 188/250\n",
      "1875/1875 [==============================] - 3s 2ms/step - loss: 0.0578 - accuracy: 0.9786\n",
      "Epoch 189/250\n",
      "1875/1875 [==============================] - 3s 2ms/step - loss: 0.0531 - accuracy: 0.9803\n",
      "Epoch 190/250\n",
      "1875/1875 [==============================] - 3s 2ms/step - loss: 0.0548 - accuracy: 0.9793\n",
      "Epoch 191/250\n",
      "1875/1875 [==============================] - 3s 2ms/step - loss: 0.0543 - accuracy: 0.9798\n",
      "Epoch 192/250\n",
      "1875/1875 [==============================] - 3s 2ms/step - loss: 0.0533 - accuracy: 0.9801\n",
      "Epoch 193/250\n",
      "1875/1875 [==============================] - 3s 2ms/step - loss: 0.0553 - accuracy: 0.9796\n",
      "Epoch 194/250\n",
      "1875/1875 [==============================] - 3s 2ms/step - loss: 0.0535 - accuracy: 0.9803\n",
      "Epoch 195/250\n",
      "1875/1875 [==============================] - 3s 2ms/step - loss: 0.0531 - accuracy: 0.9806\n",
      "Epoch 196/250\n",
      "1875/1875 [==============================] - 3s 2ms/step - loss: 0.0513 - accuracy: 0.9806\n",
      "Epoch 197/250\n",
      "1875/1875 [==============================] - 3s 2ms/step - loss: 0.0540 - accuracy: 0.9795\n",
      "Epoch 198/250\n",
      "1875/1875 [==============================] - 3s 2ms/step - loss: 0.0545 - accuracy: 0.9798\n",
      "Epoch 199/250\n",
      "1875/1875 [==============================] - 3s 2ms/step - loss: 0.0526 - accuracy: 0.9805\n",
      "Epoch 200/250\n",
      "1875/1875 [==============================] - 3s 2ms/step - loss: 0.0531 - accuracy: 0.9805\n",
      "Epoch 201/250\n",
      "1875/1875 [==============================] - 3s 2ms/step - loss: 0.0536 - accuracy: 0.9800\n",
      "Epoch 202/250\n",
      "1875/1875 [==============================] - 3s 2ms/step - loss: 0.0515 - accuracy: 0.9812\n",
      "Epoch 203/250\n",
      "1875/1875 [==============================] - 3s 2ms/step - loss: 0.0537 - accuracy: 0.9799\n",
      "Epoch 204/250\n",
      "1875/1875 [==============================] - 3s 2ms/step - loss: 0.0509 - accuracy: 0.9811\n",
      "Epoch 205/250\n",
      "1875/1875 [==============================] - 3s 2ms/step - loss: 0.0515 - accuracy: 0.9815\n",
      "Epoch 206/250\n",
      "1875/1875 [==============================] - 3s 2ms/step - loss: 0.0479 - accuracy: 0.9823\n",
      "Epoch 207/250\n",
      "1875/1875 [==============================] - 3s 2ms/step - loss: 0.0529 - accuracy: 0.9802\n",
      "Epoch 208/250\n",
      "1875/1875 [==============================] - 3s 2ms/step - loss: 0.0490 - accuracy: 0.9815\n",
      "Epoch 209/250\n",
      "1875/1875 [==============================] - 3s 2ms/step - loss: 0.0519 - accuracy: 0.9807\n",
      "Epoch 210/250\n",
      "1875/1875 [==============================] - 3s 2ms/step - loss: 0.0498 - accuracy: 0.9821\n",
      "Epoch 211/250\n",
      "1875/1875 [==============================] - 3s 2ms/step - loss: 0.0496 - accuracy: 0.9818\n",
      "Epoch 212/250\n",
      "1875/1875 [==============================] - 4s 2ms/step - loss: 0.0511 - accuracy: 0.9808\n",
      "Epoch 213/250\n",
      "1875/1875 [==============================] - 4s 2ms/step - loss: 0.0512 - accuracy: 0.9808\n",
      "Epoch 214/250\n",
      "1875/1875 [==============================] - 4s 2ms/step - loss: 0.0480 - accuracy: 0.9825\n",
      "Epoch 215/250\n",
      "1875/1875 [==============================] - 3s 2ms/step - loss: 0.0498 - accuracy: 0.9822\n",
      "Epoch 216/250\n",
      "1875/1875 [==============================] - 3s 2ms/step - loss: 0.0496 - accuracy: 0.9813\n",
      "Epoch 217/250\n",
      "1875/1875 [==============================] - 3s 2ms/step - loss: 0.0474 - accuracy: 0.9822\n",
      "Epoch 218/250\n",
      "1875/1875 [==============================] - 3s 2ms/step - loss: 0.0483 - accuracy: 0.9820\n",
      "Epoch 219/250\n",
      "1875/1875 [==============================] - 3s 2ms/step - loss: 0.0486 - accuracy: 0.9820\n",
      "Epoch 220/250\n",
      "1875/1875 [==============================] - 3s 2ms/step - loss: 0.0476 - accuracy: 0.9828\n",
      "Epoch 221/250\n",
      "1875/1875 [==============================] - 3s 2ms/step - loss: 0.0462 - accuracy: 0.9833\n",
      "Epoch 222/250\n",
      "1875/1875 [==============================] - 3s 2ms/step - loss: 0.0461 - accuracy: 0.9833\n",
      "Epoch 223/250\n",
      "1875/1875 [==============================] - 3s 2ms/step - loss: 0.0471 - accuracy: 0.9822\n",
      "Epoch 224/250\n",
      "1875/1875 [==============================] - 3s 2ms/step - loss: 0.0485 - accuracy: 0.9827\n",
      "Epoch 225/250\n",
      "1875/1875 [==============================] - 3s 2ms/step - loss: 0.0478 - accuracy: 0.9824\n",
      "Epoch 226/250\n",
      "1875/1875 [==============================] - 3s 2ms/step - loss: 0.0464 - accuracy: 0.9829\n",
      "Epoch 227/250\n",
      "1875/1875 [==============================] - 3s 2ms/step - loss: 0.0441 - accuracy: 0.9831\n",
      "Epoch 228/250\n",
      "1875/1875 [==============================] - 3s 2ms/step - loss: 0.0478 - accuracy: 0.9825\n",
      "Epoch 229/250\n",
      "1875/1875 [==============================] - 3s 2ms/step - loss: 0.0463 - accuracy: 0.9829\n",
      "Epoch 230/250\n",
      "1875/1875 [==============================] - 3s 2ms/step - loss: 0.0440 - accuracy: 0.9838\n",
      "Epoch 231/250\n",
      "1875/1875 [==============================] - 3s 2ms/step - loss: 0.0478 - accuracy: 0.9826\n",
      "Epoch 232/250\n",
      "1875/1875 [==============================] - 3s 2ms/step - loss: 0.0443 - accuracy: 0.9832\n",
      "Epoch 233/250\n",
      "1875/1875 [==============================] - 3s 2ms/step - loss: 0.0470 - accuracy: 0.9832\n",
      "Epoch 234/250\n",
      "1875/1875 [==============================] - 3s 2ms/step - loss: 0.0435 - accuracy: 0.9834\n",
      "Epoch 235/250\n",
      "1875/1875 [==============================] - 3s 2ms/step - loss: 0.0468 - accuracy: 0.9832\n",
      "Epoch 236/250\n",
      "1875/1875 [==============================] - 3s 2ms/step - loss: 0.0446 - accuracy: 0.9839\n",
      "Epoch 237/250\n",
      "1875/1875 [==============================] - 3s 2ms/step - loss: 0.0450 - accuracy: 0.9833\n",
      "Epoch 238/250\n",
      "1875/1875 [==============================] - 3s 2ms/step - loss: 0.0444 - accuracy: 0.9837\n",
      "Epoch 239/250\n",
      "1875/1875 [==============================] - 3s 2ms/step - loss: 0.0433 - accuracy: 0.9843\n",
      "Epoch 240/250\n",
      "1875/1875 [==============================] - 3s 2ms/step - loss: 0.0478 - accuracy: 0.9828\n",
      "Epoch 241/250\n",
      "1875/1875 [==============================] - 3s 2ms/step - loss: 0.0434 - accuracy: 0.9839\n",
      "Epoch 242/250\n",
      "1875/1875 [==============================] - 3s 2ms/step - loss: 0.0434 - accuracy: 0.9846\n",
      "Epoch 243/250\n",
      "1875/1875 [==============================] - 3s 2ms/step - loss: 0.0452 - accuracy: 0.9831\n",
      "Epoch 244/250\n",
      "1875/1875 [==============================] - 3s 2ms/step - loss: 0.0415 - accuracy: 0.9848\n",
      "Epoch 245/250\n",
      "1875/1875 [==============================] - 3s 2ms/step - loss: 0.0451 - accuracy: 0.9833\n",
      "Epoch 246/250\n",
      "1875/1875 [==============================] - 3s 2ms/step - loss: 0.0433 - accuracy: 0.9840\n",
      "Epoch 247/250\n",
      "1875/1875 [==============================] - 3s 2ms/step - loss: 0.0422 - accuracy: 0.9845\n",
      "Epoch 248/250\n",
      "1875/1875 [==============================] - 3s 2ms/step - loss: 0.0448 - accuracy: 0.9832\n",
      "Epoch 249/250\n",
      "1875/1875 [==============================] - 3s 2ms/step - loss: 0.0456 - accuracy: 0.9832\n",
      "Epoch 250/250\n",
      "1875/1875 [==============================] - 3s 2ms/step - loss: 0.0414 - accuracy: 0.9846\n"
     ]
    }
   ],
   "source": [
    "model_PELU.compile(optimizer = tf.optimizers.Adam(), #without RELU \n",
    "              loss = 'sparse_categorical_crossentropy',\n",
    "              metrics=['accuracy'])\n",
    "\n",
    "history_PELU = model_PELU.fit(training_images, training_labels, epochs=250)"
   ]
  },
  {
   "cell_type": "code",
   "execution_count": 58,
   "metadata": {
    "colab": {
     "base_uri": "https://localhost:8080/"
    },
    "id": "xrcq_ypHm5CC",
    "outputId": "b10586d4-9a88-4cb5-9c81-d0c60fd921c2"
   },
   "outputs": [
    {
     "name": "stdout",
     "output_type": "stream",
     "text": [
      "Model: \"sequential_2\"\n",
      "_________________________________________________________________\n",
      "Layer (type)                 Output Shape              Param #   \n",
      "=================================================================\n",
      "flatten_2 (Flatten)          (32, 784)                 0         \n",
      "_________________________________________________________________\n",
      "dense_4 (Dense)              (32, 50)                  39250     \n",
      "_________________________________________________________________\n",
      "pelu_3 (PELU)                (32, 50)                  100       \n",
      "_________________________________________________________________\n",
      "dense_5 (Dense)              (32, 10)                  510       \n",
      "=================================================================\n",
      "Total params: 39,860\n",
      "Trainable params: 39,860\n",
      "Non-trainable params: 0\n",
      "_________________________________________________________________\n"
     ]
    }
   ],
   "source": [
    "model_PELU.summary()"
   ]
  },
  {
   "cell_type": "code",
   "execution_count": 59,
   "metadata": {
    "colab": {
     "base_uri": "https://localhost:8080/"
    },
    "id": "dW4b_SThncLc",
    "outputId": "319c3eae-2e8e-464b-e5f8-a0a0603796de"
   },
   "outputs": [
    {
     "name": "stdout",
     "output_type": "stream",
     "text": [
      "Epoch 1/250\n",
      "1875/1875 [==============================] - 3s 1ms/step - loss: 0.5281 - accuracy: 0.8178\n",
      "Epoch 2/250\n",
      "1875/1875 [==============================] - 3s 1ms/step - loss: 0.4035 - accuracy: 0.8576\n",
      "Epoch 3/250\n",
      "1875/1875 [==============================] - 3s 1ms/step - loss: 0.3677 - accuracy: 0.8691\n",
      "Epoch 4/250\n",
      "1875/1875 [==============================] - 3s 1ms/step - loss: 0.3420 - accuracy: 0.8763\n",
      "Epoch 5/250\n",
      "1875/1875 [==============================] - 3s 1ms/step - loss: 0.3223 - accuracy: 0.8832\n",
      "Epoch 6/250\n",
      "1875/1875 [==============================] - 3s 2ms/step - loss: 0.3078 - accuracy: 0.8860\n",
      "Epoch 7/250\n",
      "1875/1875 [==============================] - 3s 2ms/step - loss: 0.2988 - accuracy: 0.8905\n",
      "Epoch 8/250\n",
      "1875/1875 [==============================] - 3s 1ms/step - loss: 0.2873 - accuracy: 0.8943\n",
      "Epoch 9/250\n",
      "1875/1875 [==============================] - 3s 1ms/step - loss: 0.2791 - accuracy: 0.8971\n",
      "Epoch 10/250\n",
      "1875/1875 [==============================] - 3s 1ms/step - loss: 0.2718 - accuracy: 0.8988\n",
      "Epoch 11/250\n",
      "1875/1875 [==============================] - 3s 1ms/step - loss: 0.2655 - accuracy: 0.9014\n",
      "Epoch 12/250\n",
      "1875/1875 [==============================] - 3s 1ms/step - loss: 0.2571 - accuracy: 0.9049\n",
      "Epoch 13/250\n",
      "1875/1875 [==============================] - 3s 1ms/step - loss: 0.2532 - accuracy: 0.9058\n",
      "Epoch 14/250\n",
      "1875/1875 [==============================] - 3s 1ms/step - loss: 0.2459 - accuracy: 0.9083\n",
      "Epoch 15/250\n",
      "1875/1875 [==============================] - 3s 1ms/step - loss: 0.2426 - accuracy: 0.9085\n",
      "Epoch 16/250\n",
      "1875/1875 [==============================] - 3s 1ms/step - loss: 0.2369 - accuracy: 0.9115\n",
      "Epoch 17/250\n",
      "1875/1875 [==============================] - 3s 2ms/step - loss: 0.2342 - accuracy: 0.9118\n",
      "Epoch 18/250\n",
      "1875/1875 [==============================] - 3s 2ms/step - loss: 0.2294 - accuracy: 0.9136\n",
      "Epoch 19/250\n",
      "1875/1875 [==============================] - 3s 1ms/step - loss: 0.2246 - accuracy: 0.9164\n",
      "Epoch 20/250\n",
      "1875/1875 [==============================] - 3s 1ms/step - loss: 0.2212 - accuracy: 0.9169\n",
      "Epoch 21/250\n",
      "1875/1875 [==============================] - 3s 1ms/step - loss: 0.2178 - accuracy: 0.9188\n",
      "Epoch 22/250\n",
      "1875/1875 [==============================] - 3s 1ms/step - loss: 0.2155 - accuracy: 0.9198\n",
      "Epoch 23/250\n",
      "1875/1875 [==============================] - 3s 1ms/step - loss: 0.2106 - accuracy: 0.9214\n",
      "Epoch 24/250\n",
      "1875/1875 [==============================] - 3s 2ms/step - loss: 0.2096 - accuracy: 0.9211\n",
      "Epoch 25/250\n",
      "1875/1875 [==============================] - 3s 2ms/step - loss: 0.2056 - accuracy: 0.9240\n",
      "Epoch 26/250\n",
      "1875/1875 [==============================] - 3s 1ms/step - loss: 0.2020 - accuracy: 0.9249\n",
      "Epoch 27/250\n",
      "1875/1875 [==============================] - 3s 2ms/step - loss: 0.1997 - accuracy: 0.9249\n",
      "Epoch 28/250\n",
      "1875/1875 [==============================] - 3s 1ms/step - loss: 0.1962 - accuracy: 0.9264\n",
      "Epoch 29/250\n",
      "1875/1875 [==============================] - 3s 1ms/step - loss: 0.1948 - accuracy: 0.9266\n",
      "Epoch 30/250\n",
      "1875/1875 [==============================] - 3s 1ms/step - loss: 0.1918 - accuracy: 0.9280\n",
      "Epoch 31/250\n",
      "1875/1875 [==============================] - 3s 2ms/step - loss: 0.1896 - accuracy: 0.9297\n",
      "Epoch 32/250\n",
      "1875/1875 [==============================] - 3s 2ms/step - loss: 0.1878 - accuracy: 0.9293\n",
      "Epoch 33/250\n",
      "1875/1875 [==============================] - 3s 1ms/step - loss: 0.1865 - accuracy: 0.9295\n",
      "Epoch 34/250\n",
      "1875/1875 [==============================] - 3s 1ms/step - loss: 0.1843 - accuracy: 0.9313\n",
      "Epoch 35/250\n",
      "1875/1875 [==============================] - 3s 1ms/step - loss: 0.1821 - accuracy: 0.9322\n",
      "Epoch 36/250\n",
      "1875/1875 [==============================] - 3s 2ms/step - loss: 0.1787 - accuracy: 0.9333\n",
      "Epoch 37/250\n",
      "1875/1875 [==============================] - 3s 1ms/step - loss: 0.1783 - accuracy: 0.9334\n",
      "Epoch 38/250\n",
      "1875/1875 [==============================] - 3s 1ms/step - loss: 0.1770 - accuracy: 0.9337\n",
      "Epoch 39/250\n",
      "1875/1875 [==============================] - 3s 1ms/step - loss: 0.1749 - accuracy: 0.9337\n",
      "Epoch 40/250\n",
      "1875/1875 [==============================] - 3s 1ms/step - loss: 0.1717 - accuracy: 0.9361\n",
      "Epoch 41/250\n",
      "1875/1875 [==============================] - 3s 1ms/step - loss: 0.1698 - accuracy: 0.9362\n",
      "Epoch 42/250\n",
      "1875/1875 [==============================] - 3s 1ms/step - loss: 0.1689 - accuracy: 0.9362\n",
      "Epoch 43/250\n",
      "1875/1875 [==============================] - 3s 1ms/step - loss: 0.1667 - accuracy: 0.9378\n",
      "Epoch 44/250\n",
      "1875/1875 [==============================] - 3s 1ms/step - loss: 0.1654 - accuracy: 0.9382\n",
      "Epoch 45/250\n",
      "1875/1875 [==============================] - 3s 1ms/step - loss: 0.1637 - accuracy: 0.9387\n",
      "Epoch 46/250\n",
      "1875/1875 [==============================] - 3s 1ms/step - loss: 0.1625 - accuracy: 0.9384\n",
      "Epoch 47/250\n",
      "1875/1875 [==============================] - 3s 1ms/step - loss: 0.1612 - accuracy: 0.9380\n",
      "Epoch 48/250\n",
      "1875/1875 [==============================] - 3s 1ms/step - loss: 0.1573 - accuracy: 0.9419\n",
      "Epoch 49/250\n",
      "1875/1875 [==============================] - 3s 1ms/step - loss: 0.1574 - accuracy: 0.9400\n",
      "Epoch 50/250\n",
      "1875/1875 [==============================] - 3s 1ms/step - loss: 0.1581 - accuracy: 0.9413\n",
      "Epoch 51/250\n",
      "1875/1875 [==============================] - 3s 2ms/step - loss: 0.1553 - accuracy: 0.9423\n",
      "Epoch 52/250\n",
      "1875/1875 [==============================] - 3s 1ms/step - loss: 0.1535 - accuracy: 0.9431\n",
      "Epoch 53/250\n",
      "1875/1875 [==============================] - 3s 2ms/step - loss: 0.1535 - accuracy: 0.9426\n",
      "Epoch 54/250\n",
      "1875/1875 [==============================] - 3s 2ms/step - loss: 0.1520 - accuracy: 0.9436\n",
      "Epoch 55/250\n",
      "1875/1875 [==============================] - 3s 2ms/step - loss: 0.1488 - accuracy: 0.9445\n",
      "Epoch 56/250\n",
      "1875/1875 [==============================] - 3s 2ms/step - loss: 0.1489 - accuracy: 0.9446\n",
      "Epoch 57/250\n",
      "1875/1875 [==============================] - 3s 2ms/step - loss: 0.1480 - accuracy: 0.9451\n",
      "Epoch 58/250\n",
      "1875/1875 [==============================] - 3s 2ms/step - loss: 0.1459 - accuracy: 0.9449\n",
      "Epoch 59/250\n",
      "1875/1875 [==============================] - 3s 2ms/step - loss: 0.1458 - accuracy: 0.9463\n",
      "Epoch 60/250\n",
      "1875/1875 [==============================] - 3s 2ms/step - loss: 0.1431 - accuracy: 0.9467\n",
      "Epoch 61/250\n",
      "1875/1875 [==============================] - 3s 2ms/step - loss: 0.1425 - accuracy: 0.9459\n",
      "Epoch 62/250\n",
      "1875/1875 [==============================] - 3s 2ms/step - loss: 0.1422 - accuracy: 0.9478\n",
      "Epoch 63/250\n",
      "1875/1875 [==============================] - 3s 1ms/step - loss: 0.1388 - accuracy: 0.9485\n",
      "Epoch 64/250\n",
      "1875/1875 [==============================] - 3s 1ms/step - loss: 0.1411 - accuracy: 0.9473\n",
      "Epoch 65/250\n",
      "1875/1875 [==============================] - 3s 2ms/step - loss: 0.1408 - accuracy: 0.9474\n",
      "Epoch 66/250\n",
      "1875/1875 [==============================] - 3s 1ms/step - loss: 0.1369 - accuracy: 0.9497\n",
      "Epoch 67/250\n",
      "1875/1875 [==============================] - 3s 2ms/step - loss: 0.1360 - accuracy: 0.9494\n",
      "Epoch 68/250\n",
      "1875/1875 [==============================] - 3s 2ms/step - loss: 0.1352 - accuracy: 0.9492\n",
      "Epoch 69/250\n",
      "1875/1875 [==============================] - 3s 2ms/step - loss: 0.1335 - accuracy: 0.9503\n",
      "Epoch 70/250\n",
      "1875/1875 [==============================] - 3s 2ms/step - loss: 0.1342 - accuracy: 0.9502\n",
      "Epoch 71/250\n",
      "1875/1875 [==============================] - 3s 2ms/step - loss: 0.1330 - accuracy: 0.9513\n",
      "Epoch 72/250\n",
      "1875/1875 [==============================] - 3s 1ms/step - loss: 0.1296 - accuracy: 0.9515\n",
      "Epoch 73/250\n",
      "1875/1875 [==============================] - 3s 1ms/step - loss: 0.1306 - accuracy: 0.9508\n",
      "Epoch 74/250\n",
      "1875/1875 [==============================] - 3s 2ms/step - loss: 0.1299 - accuracy: 0.9516\n",
      "Epoch 75/250\n",
      "1875/1875 [==============================] - 3s 2ms/step - loss: 0.1275 - accuracy: 0.9521\n",
      "Epoch 76/250\n",
      "1875/1875 [==============================] - 3s 1ms/step - loss: 0.1281 - accuracy: 0.9526\n",
      "Epoch 77/250\n",
      "1875/1875 [==============================] - 3s 1ms/step - loss: 0.1285 - accuracy: 0.9523\n",
      "Epoch 78/250\n",
      "1875/1875 [==============================] - 3s 1ms/step - loss: 0.1251 - accuracy: 0.9534\n",
      "Epoch 79/250\n",
      "1875/1875 [==============================] - 3s 1ms/step - loss: 0.1268 - accuracy: 0.9533\n",
      "Epoch 80/250\n",
      "1875/1875 [==============================] - 3s 1ms/step - loss: 0.1246 - accuracy: 0.9541\n",
      "Epoch 81/250\n",
      "1875/1875 [==============================] - 3s 2ms/step - loss: 0.1240 - accuracy: 0.9536\n",
      "Epoch 82/250\n",
      "1875/1875 [==============================] - 3s 1ms/step - loss: 0.1222 - accuracy: 0.9544\n",
      "Epoch 83/250\n",
      "1875/1875 [==============================] - 3s 1ms/step - loss: 0.1205 - accuracy: 0.9554\n",
      "Epoch 84/250\n",
      "1875/1875 [==============================] - 3s 1ms/step - loss: 0.1229 - accuracy: 0.9538\n",
      "Epoch 85/250\n",
      "1875/1875 [==============================] - 3s 1ms/step - loss: 0.1193 - accuracy: 0.9554\n",
      "Epoch 86/250\n",
      "1875/1875 [==============================] - 3s 1ms/step - loss: 0.1194 - accuracy: 0.9564\n",
      "Epoch 87/250\n",
      "1875/1875 [==============================] - 3s 1ms/step - loss: 0.1188 - accuracy: 0.9560\n",
      "Epoch 88/250\n",
      "1875/1875 [==============================] - 3s 2ms/step - loss: 0.1169 - accuracy: 0.9567\n",
      "Epoch 89/250\n",
      "1875/1875 [==============================] - 3s 1ms/step - loss: 0.1172 - accuracy: 0.9561\n",
      "Epoch 90/250\n",
      "1875/1875 [==============================] - 3s 2ms/step - loss: 0.1152 - accuracy: 0.9571\n",
      "Epoch 91/250\n",
      "1875/1875 [==============================] - 3s 2ms/step - loss: 0.1157 - accuracy: 0.9573\n",
      "Epoch 92/250\n",
      "1875/1875 [==============================] - 3s 2ms/step - loss: 0.1125 - accuracy: 0.9579\n",
      "Epoch 93/250\n",
      "1875/1875 [==============================] - 3s 2ms/step - loss: 0.1149 - accuracy: 0.9578\n",
      "Epoch 94/250\n",
      "1875/1875 [==============================] - 3s 2ms/step - loss: 0.1110 - accuracy: 0.9596\n",
      "Epoch 95/250\n",
      "1875/1875 [==============================] - 3s 2ms/step - loss: 0.1115 - accuracy: 0.9583\n",
      "Epoch 96/250\n",
      "1875/1875 [==============================] - 3s 2ms/step - loss: 0.1120 - accuracy: 0.9584\n",
      "Epoch 97/250\n",
      "1875/1875 [==============================] - 3s 1ms/step - loss: 0.1095 - accuracy: 0.9602\n",
      "Epoch 98/250\n",
      "1875/1875 [==============================] - 3s 1ms/step - loss: 0.1112 - accuracy: 0.9591\n",
      "Epoch 99/250\n",
      "1875/1875 [==============================] - 3s 2ms/step - loss: 0.1100 - accuracy: 0.9593\n",
      "Epoch 100/250\n",
      "1875/1875 [==============================] - 3s 2ms/step - loss: 0.1102 - accuracy: 0.9586\n",
      "Epoch 101/250\n",
      "1875/1875 [==============================] - 3s 2ms/step - loss: 0.1064 - accuracy: 0.9607\n",
      "Epoch 102/250\n",
      "1875/1875 [==============================] - 3s 2ms/step - loss: 0.1088 - accuracy: 0.9597\n",
      "Epoch 103/250\n",
      "1875/1875 [==============================] - 3s 2ms/step - loss: 0.1045 - accuracy: 0.9617\n",
      "Epoch 104/250\n",
      "1875/1875 [==============================] - 3s 2ms/step - loss: 0.1072 - accuracy: 0.9599\n",
      "Epoch 105/250\n",
      "1875/1875 [==============================] - 3s 2ms/step - loss: 0.1068 - accuracy: 0.9600\n",
      "Epoch 106/250\n",
      "1875/1875 [==============================] - 3s 2ms/step - loss: 0.1057 - accuracy: 0.9604\n",
      "Epoch 107/250\n",
      "1875/1875 [==============================] - 3s 2ms/step - loss: 0.1052 - accuracy: 0.9611\n",
      "Epoch 108/250\n",
      "1875/1875 [==============================] - 3s 2ms/step - loss: 0.1050 - accuracy: 0.9607\n",
      "Epoch 109/250\n",
      "1875/1875 [==============================] - 3s 1ms/step - loss: 0.1041 - accuracy: 0.9615\n",
      "Epoch 110/250\n",
      "1875/1875 [==============================] - 3s 1ms/step - loss: 0.1022 - accuracy: 0.9616\n",
      "Epoch 111/250\n",
      "1875/1875 [==============================] - 3s 2ms/step - loss: 0.1025 - accuracy: 0.9610\n",
      "Epoch 112/250\n",
      "1875/1875 [==============================] - 3s 2ms/step - loss: 0.1021 - accuracy: 0.9619\n",
      "Epoch 113/250\n",
      "1875/1875 [==============================] - 3s 2ms/step - loss: 0.0994 - accuracy: 0.9638\n",
      "Epoch 114/250\n",
      "1875/1875 [==============================] - 3s 2ms/step - loss: 0.1026 - accuracy: 0.9615\n",
      "Epoch 115/250\n",
      "1875/1875 [==============================] - 3s 2ms/step - loss: 0.0990 - accuracy: 0.9637\n",
      "Epoch 116/250\n",
      "1875/1875 [==============================] - 3s 2ms/step - loss: 0.1006 - accuracy: 0.9625\n",
      "Epoch 117/250\n",
      "1875/1875 [==============================] - 3s 2ms/step - loss: 0.0972 - accuracy: 0.9646\n",
      "Epoch 118/250\n",
      "1875/1875 [==============================] - 3s 2ms/step - loss: 0.0975 - accuracy: 0.9643\n",
      "Epoch 119/250\n",
      "1875/1875 [==============================] - 3s 1ms/step - loss: 0.0987 - accuracy: 0.9636\n",
      "Epoch 120/250\n",
      "1875/1875 [==============================] - 3s 2ms/step - loss: 0.0987 - accuracy: 0.9633\n",
      "Epoch 121/250\n",
      "1875/1875 [==============================] - 3s 2ms/step - loss: 0.0949 - accuracy: 0.9649\n",
      "Epoch 122/250\n",
      "1875/1875 [==============================] - 3s 2ms/step - loss: 0.0941 - accuracy: 0.9657\n",
      "Epoch 123/250\n",
      "1875/1875 [==============================] - 3s 2ms/step - loss: 0.0977 - accuracy: 0.9641\n",
      "Epoch 124/250\n",
      "1875/1875 [==============================] - 3s 2ms/step - loss: 0.0938 - accuracy: 0.9652\n",
      "Epoch 125/250\n",
      "1875/1875 [==============================] - 3s 2ms/step - loss: 0.0945 - accuracy: 0.9654\n",
      "Epoch 126/250\n",
      "1875/1875 [==============================] - 3s 2ms/step - loss: 0.0925 - accuracy: 0.9657\n",
      "Epoch 127/250\n",
      "1875/1875 [==============================] - 3s 2ms/step - loss: 0.0936 - accuracy: 0.9655\n",
      "Epoch 128/250\n",
      "1875/1875 [==============================] - 3s 2ms/step - loss: 0.0930 - accuracy: 0.9651\n",
      "Epoch 129/250\n",
      "1875/1875 [==============================] - 3s 2ms/step - loss: 0.0915 - accuracy: 0.9665\n",
      "Epoch 130/250\n",
      "1875/1875 [==============================] - 3s 1ms/step - loss: 0.0915 - accuracy: 0.9663\n",
      "Epoch 131/250\n",
      "1875/1875 [==============================] - 3s 2ms/step - loss: 0.0892 - accuracy: 0.9674\n",
      "Epoch 132/250\n",
      "1875/1875 [==============================] - 3s 2ms/step - loss: 0.0919 - accuracy: 0.9668\n",
      "Epoch 133/250\n",
      "1875/1875 [==============================] - 3s 2ms/step - loss: 0.0910 - accuracy: 0.9670\n",
      "Epoch 134/250\n",
      "1875/1875 [==============================] - 3s 2ms/step - loss: 0.0899 - accuracy: 0.9669\n",
      "Epoch 135/250\n",
      "1875/1875 [==============================] - 3s 2ms/step - loss: 0.0892 - accuracy: 0.9674\n",
      "Epoch 136/250\n",
      "1875/1875 [==============================] - 3s 2ms/step - loss: 0.0896 - accuracy: 0.9675\n",
      "Epoch 137/250\n",
      "1875/1875 [==============================] - 3s 2ms/step - loss: 0.0882 - accuracy: 0.9661\n",
      "Epoch 138/250\n",
      "1875/1875 [==============================] - 3s 2ms/step - loss: 0.0886 - accuracy: 0.9674\n",
      "Epoch 139/250\n",
      "1875/1875 [==============================] - 3s 2ms/step - loss: 0.0889 - accuracy: 0.9674\n",
      "Epoch 140/250\n",
      "1875/1875 [==============================] - 3s 2ms/step - loss: 0.0854 - accuracy: 0.9685\n",
      "Epoch 141/250\n",
      "1875/1875 [==============================] - 3s 2ms/step - loss: 0.0875 - accuracy: 0.9684\n",
      "Epoch 142/250\n",
      "1875/1875 [==============================] - 3s 2ms/step - loss: 0.0867 - accuracy: 0.9681\n",
      "Epoch 143/250\n",
      "1875/1875 [==============================] - 3s 2ms/step - loss: 0.0854 - accuracy: 0.9693\n",
      "Epoch 144/250\n",
      "1875/1875 [==============================] - 3s 2ms/step - loss: 0.0816 - accuracy: 0.9704\n",
      "Epoch 145/250\n",
      "1875/1875 [==============================] - 3s 2ms/step - loss: 0.0862 - accuracy: 0.9676\n",
      "Epoch 146/250\n",
      "1875/1875 [==============================] - 3s 1ms/step - loss: 0.0853 - accuracy: 0.9682\n",
      "Epoch 147/250\n",
      "1875/1875 [==============================] - 3s 2ms/step - loss: 0.0839 - accuracy: 0.9683\n",
      "Epoch 148/250\n",
      "1875/1875 [==============================] - 3s 2ms/step - loss: 0.0831 - accuracy: 0.9701\n",
      "Epoch 149/250\n",
      "1875/1875 [==============================] - 3s 2ms/step - loss: 0.0828 - accuracy: 0.9693\n",
      "Epoch 150/250\n",
      "1875/1875 [==============================] - 3s 2ms/step - loss: 0.0844 - accuracy: 0.9690\n",
      "Epoch 151/250\n",
      "1875/1875 [==============================] - 3s 2ms/step - loss: 0.0818 - accuracy: 0.9702\n",
      "Epoch 152/250\n",
      "1875/1875 [==============================] - 3s 2ms/step - loss: 0.0814 - accuracy: 0.9701\n",
      "Epoch 153/250\n",
      "1875/1875 [==============================] - 3s 2ms/step - loss: 0.0814 - accuracy: 0.9692\n",
      "Epoch 154/250\n",
      "1875/1875 [==============================] - 3s 2ms/step - loss: 0.0832 - accuracy: 0.9685\n",
      "Epoch 155/250\n",
      "1875/1875 [==============================] - 3s 2ms/step - loss: 0.0780 - accuracy: 0.9706\n",
      "Epoch 156/250\n",
      "1875/1875 [==============================] - 3s 2ms/step - loss: 0.0801 - accuracy: 0.9713\n",
      "Epoch 157/250\n",
      "1875/1875 [==============================] - 3s 2ms/step - loss: 0.0816 - accuracy: 0.9708\n",
      "Epoch 158/250\n",
      "1875/1875 [==============================] - 3s 2ms/step - loss: 0.0777 - accuracy: 0.9717\n",
      "Epoch 159/250\n",
      "1875/1875 [==============================] - 3s 2ms/step - loss: 0.0781 - accuracy: 0.9719\n",
      "Epoch 160/250\n",
      "1875/1875 [==============================] - 3s 2ms/step - loss: 0.0780 - accuracy: 0.9708\n",
      "Epoch 161/250\n",
      "1875/1875 [==============================] - 3s 2ms/step - loss: 0.0777 - accuracy: 0.9715\n",
      "Epoch 162/250\n",
      "1875/1875 [==============================] - 3s 2ms/step - loss: 0.0779 - accuracy: 0.9711\n",
      "Epoch 163/250\n",
      "1875/1875 [==============================] - 3s 2ms/step - loss: 0.0785 - accuracy: 0.9711\n",
      "Epoch 164/250\n",
      "1875/1875 [==============================] - 3s 2ms/step - loss: 0.0755 - accuracy: 0.9720\n",
      "Epoch 165/250\n",
      "1875/1875 [==============================] - 3s 2ms/step - loss: 0.0756 - accuracy: 0.9719\n",
      "Epoch 166/250\n",
      "1875/1875 [==============================] - 3s 2ms/step - loss: 0.0790 - accuracy: 0.9713\n",
      "Epoch 167/250\n",
      "1875/1875 [==============================] - 3s 2ms/step - loss: 0.0760 - accuracy: 0.9723\n",
      "Epoch 168/250\n",
      "1875/1875 [==============================] - 3s 2ms/step - loss: 0.0743 - accuracy: 0.9726\n",
      "Epoch 169/250\n",
      "1875/1875 [==============================] - 3s 2ms/step - loss: 0.0754 - accuracy: 0.9724\n",
      "Epoch 170/250\n",
      "1875/1875 [==============================] - 3s 2ms/step - loss: 0.0752 - accuracy: 0.9725\n",
      "Epoch 171/250\n",
      "1875/1875 [==============================] - 3s 2ms/step - loss: 0.0735 - accuracy: 0.9734\n",
      "Epoch 172/250\n",
      "1875/1875 [==============================] - 3s 2ms/step - loss: 0.0749 - accuracy: 0.9725\n",
      "Epoch 173/250\n",
      "1875/1875 [==============================] - 3s 1ms/step - loss: 0.0726 - accuracy: 0.9736\n",
      "Epoch 174/250\n",
      "1875/1875 [==============================] - 3s 1ms/step - loss: 0.0747 - accuracy: 0.9727\n",
      "Epoch 175/250\n",
      "1875/1875 [==============================] - 3s 2ms/step - loss: 0.0743 - accuracy: 0.9728\n",
      "Epoch 176/250\n",
      "1875/1875 [==============================] - 3s 2ms/step - loss: 0.0738 - accuracy: 0.9722\n",
      "Epoch 177/250\n",
      "1875/1875 [==============================] - 4s 2ms/step - loss: 0.0727 - accuracy: 0.9736\n",
      "Epoch 178/250\n",
      "1875/1875 [==============================] - 3s 2ms/step - loss: 0.0737 - accuracy: 0.9722\n",
      "Epoch 179/250\n",
      "1875/1875 [==============================] - 3s 2ms/step - loss: 0.0711 - accuracy: 0.9737\n",
      "Epoch 180/250\n",
      "1875/1875 [==============================] - 3s 2ms/step - loss: 0.0720 - accuracy: 0.9729\n",
      "Epoch 181/250\n",
      "1875/1875 [==============================] - 3s 2ms/step - loss: 0.0707 - accuracy: 0.9739\n",
      "Epoch 182/250\n",
      "1875/1875 [==============================] - 3s 2ms/step - loss: 0.0731 - accuracy: 0.9733\n",
      "Epoch 183/250\n",
      "1875/1875 [==============================] - 3s 2ms/step - loss: 0.0711 - accuracy: 0.9734\n",
      "Epoch 184/250\n",
      "1875/1875 [==============================] - 3s 2ms/step - loss: 0.0715 - accuracy: 0.9743\n",
      "Epoch 185/250\n",
      "1875/1875 [==============================] - 3s 2ms/step - loss: 0.0711 - accuracy: 0.9742\n",
      "Epoch 186/250\n",
      "1875/1875 [==============================] - 3s 2ms/step - loss: 0.0718 - accuracy: 0.9740\n",
      "Epoch 187/250\n",
      "1875/1875 [==============================] - 3s 2ms/step - loss: 0.0671 - accuracy: 0.9752\n",
      "Epoch 188/250\n",
      "1875/1875 [==============================] - 3s 2ms/step - loss: 0.0714 - accuracy: 0.9740\n",
      "Epoch 189/250\n",
      "1875/1875 [==============================] - 3s 2ms/step - loss: 0.0673 - accuracy: 0.9755\n",
      "Epoch 190/250\n",
      "1875/1875 [==============================] - 3s 2ms/step - loss: 0.0690 - accuracy: 0.9752\n",
      "Epoch 191/250\n",
      "1875/1875 [==============================] - 3s 2ms/step - loss: 0.0687 - accuracy: 0.9752\n",
      "Epoch 192/250\n",
      "1875/1875 [==============================] - 3s 2ms/step - loss: 0.0702 - accuracy: 0.9740\n",
      "Epoch 193/250\n",
      "1875/1875 [==============================] - 3s 2ms/step - loss: 0.0665 - accuracy: 0.9756\n",
      "Epoch 194/250\n",
      "1875/1875 [==============================] - 3s 2ms/step - loss: 0.0668 - accuracy: 0.9757\n",
      "Epoch 195/250\n",
      "1875/1875 [==============================] - 3s 1ms/step - loss: 0.0675 - accuracy: 0.9754\n",
      "Epoch 196/250\n",
      "1875/1875 [==============================] - 3s 2ms/step - loss: 0.0667 - accuracy: 0.9758\n",
      "Epoch 197/250\n",
      "1875/1875 [==============================] - 3s 2ms/step - loss: 0.0656 - accuracy: 0.9763\n",
      "Epoch 198/250\n",
      "1875/1875 [==============================] - 3s 2ms/step - loss: 0.0664 - accuracy: 0.9759\n",
      "Epoch 199/250\n",
      "1875/1875 [==============================] - 3s 2ms/step - loss: 0.0661 - accuracy: 0.9760\n",
      "Epoch 200/250\n",
      "1875/1875 [==============================] - 3s 2ms/step - loss: 0.0653 - accuracy: 0.9757\n",
      "Epoch 201/250\n",
      "1875/1875 [==============================] - 3s 2ms/step - loss: 0.0658 - accuracy: 0.9759\n",
      "Epoch 202/250\n",
      "1875/1875 [==============================] - 3s 2ms/step - loss: 0.0682 - accuracy: 0.9751\n",
      "Epoch 203/250\n",
      "1875/1875 [==============================] - 3s 2ms/step - loss: 0.0629 - accuracy: 0.9776\n",
      "Epoch 204/250\n",
      "1875/1875 [==============================] - 3s 2ms/step - loss: 0.0636 - accuracy: 0.9766\n",
      "Epoch 205/250\n",
      "1875/1875 [==============================] - 3s 2ms/step - loss: 0.0662 - accuracy: 0.9752\n",
      "Epoch 206/250\n",
      "1875/1875 [==============================] - 3s 2ms/step - loss: 0.0634 - accuracy: 0.9773\n",
      "Epoch 207/250\n",
      "1875/1875 [==============================] - 3s 2ms/step - loss: 0.0638 - accuracy: 0.9768\n",
      "Epoch 208/250\n",
      "1875/1875 [==============================] - 3s 2ms/step - loss: 0.0621 - accuracy: 0.9769\n",
      "Epoch 209/250\n",
      "1875/1875 [==============================] - 3s 2ms/step - loss: 0.0637 - accuracy: 0.9764\n",
      "Epoch 210/250\n",
      "1875/1875 [==============================] - 3s 2ms/step - loss: 0.0625 - accuracy: 0.9771\n",
      "Epoch 211/250\n",
      "1875/1875 [==============================] - 3s 2ms/step - loss: 0.0622 - accuracy: 0.9773\n",
      "Epoch 212/250\n",
      "1875/1875 [==============================] - 3s 2ms/step - loss: 0.0625 - accuracy: 0.9785\n",
      "Epoch 213/250\n",
      "1875/1875 [==============================] - 3s 2ms/step - loss: 0.0655 - accuracy: 0.9761\n",
      "Epoch 214/250\n",
      "1875/1875 [==============================] - 3s 2ms/step - loss: 0.0616 - accuracy: 0.9779\n",
      "Epoch 215/250\n",
      "1875/1875 [==============================] - 3s 2ms/step - loss: 0.0618 - accuracy: 0.9775\n",
      "Epoch 216/250\n",
      "1875/1875 [==============================] - 3s 2ms/step - loss: 0.0607 - accuracy: 0.9775\n",
      "Epoch 217/250\n",
      "1875/1875 [==============================] - 3s 2ms/step - loss: 0.0601 - accuracy: 0.9785\n",
      "Epoch 218/250\n",
      "1875/1875 [==============================] - 3s 2ms/step - loss: 0.0629 - accuracy: 0.9776\n",
      "Epoch 219/250\n",
      "1875/1875 [==============================] - 3s 2ms/step - loss: 0.0610 - accuracy: 0.9775\n",
      "Epoch 220/250\n",
      "1875/1875 [==============================] - 3s 2ms/step - loss: 0.0592 - accuracy: 0.9790\n",
      "Epoch 221/250\n",
      "1875/1875 [==============================] - 3s 2ms/step - loss: 0.0608 - accuracy: 0.9778\n",
      "Epoch 222/250\n",
      "1875/1875 [==============================] - 3s 2ms/step - loss: 0.0575 - accuracy: 0.9790\n",
      "Epoch 223/250\n",
      "1875/1875 [==============================] - 3s 2ms/step - loss: 0.0585 - accuracy: 0.9789\n",
      "Epoch 224/250\n",
      "1875/1875 [==============================] - 3s 2ms/step - loss: 0.0614 - accuracy: 0.9786\n",
      "Epoch 225/250\n",
      "1875/1875 [==============================] - 3s 2ms/step - loss: 0.0569 - accuracy: 0.9786\n",
      "Epoch 226/250\n",
      "1875/1875 [==============================] - 3s 2ms/step - loss: 0.0587 - accuracy: 0.9786\n",
      "Epoch 227/250\n",
      "1875/1875 [==============================] - 3s 2ms/step - loss: 0.0586 - accuracy: 0.9790\n",
      "Epoch 228/250\n",
      "1875/1875 [==============================] - 3s 2ms/step - loss: 0.0593 - accuracy: 0.9781\n",
      "Epoch 229/250\n",
      "1875/1875 [==============================] - 3s 2ms/step - loss: 0.0559 - accuracy: 0.9799\n",
      "Epoch 230/250\n",
      "1875/1875 [==============================] - 3s 2ms/step - loss: 0.0576 - accuracy: 0.9796\n",
      "Epoch 231/250\n",
      "1875/1875 [==============================] - 3s 2ms/step - loss: 0.0582 - accuracy: 0.9788\n",
      "Epoch 232/250\n",
      "1875/1875 [==============================] - 3s 2ms/step - loss: 0.0579 - accuracy: 0.9796\n",
      "Epoch 233/250\n",
      "1875/1875 [==============================] - 3s 2ms/step - loss: 0.0579 - accuracy: 0.9790\n",
      "Epoch 234/250\n",
      "1875/1875 [==============================] - 3s 2ms/step - loss: 0.0569 - accuracy: 0.9795\n",
      "Epoch 235/250\n",
      "1875/1875 [==============================] - 3s 2ms/step - loss: 0.0562 - accuracy: 0.9793\n",
      "Epoch 236/250\n",
      "1875/1875 [==============================] - 3s 2ms/step - loss: 0.0569 - accuracy: 0.9787\n",
      "Epoch 237/250\n",
      "1875/1875 [==============================] - 3s 2ms/step - loss: 0.0539 - accuracy: 0.9804\n",
      "Epoch 238/250\n",
      "1875/1875 [==============================] - 3s 2ms/step - loss: 0.0583 - accuracy: 0.9791\n",
      "Epoch 239/250\n",
      "1875/1875 [==============================] - 3s 2ms/step - loss: 0.0531 - accuracy: 0.9805\n",
      "Epoch 240/250\n",
      "1875/1875 [==============================] - 3s 2ms/step - loss: 0.0574 - accuracy: 0.9790\n",
      "Epoch 241/250\n",
      "1875/1875 [==============================] - 3s 2ms/step - loss: 0.0578 - accuracy: 0.9797\n",
      "Epoch 242/250\n",
      "1875/1875 [==============================] - 3s 2ms/step - loss: 0.0536 - accuracy: 0.9806\n",
      "Epoch 243/250\n",
      "1875/1875 [==============================] - 3s 1ms/step - loss: 0.0563 - accuracy: 0.9796\n",
      "Epoch 244/250\n",
      "1875/1875 [==============================] - 3s 2ms/step - loss: 0.0564 - accuracy: 0.9796\n",
      "Epoch 245/250\n",
      "1875/1875 [==============================] - 3s 2ms/step - loss: 0.0544 - accuracy: 0.9803\n",
      "Epoch 246/250\n",
      "1875/1875 [==============================] - 3s 2ms/step - loss: 0.0537 - accuracy: 0.9800\n",
      "Epoch 247/250\n",
      "1875/1875 [==============================] - 3s 2ms/step - loss: 0.0549 - accuracy: 0.9800\n",
      "Epoch 248/250\n",
      "1875/1875 [==============================] - 3s 2ms/step - loss: 0.0536 - accuracy: 0.9807\n",
      "Epoch 249/250\n",
      "1875/1875 [==============================] - 3s 2ms/step - loss: 0.0525 - accuracy: 0.9807\n",
      "Epoch 250/250\n",
      "1875/1875 [==============================] - 3s 2ms/step - loss: 0.0575 - accuracy: 0.9794\n"
     ]
    }
   ],
   "source": [
    "model_RELU.compile(optimizer = tf.optimizers.Adam(), #without RELU \n",
    "              loss = 'sparse_categorical_crossentropy',\n",
    "              metrics=['accuracy'])\n",
    "\n",
    "history_RELU = model_RELU.fit(training_images, training_labels, epochs=250)"
   ]
  },
  {
   "cell_type": "code",
   "execution_count": 60,
   "metadata": {
    "colab": {
     "base_uri": "https://localhost:8080/"
    },
    "id": "Qgj23nDYKDdo",
    "outputId": "9ed0e2ac-ade2-4b1a-bb85-fdb4fd70942b"
   },
   "outputs": [
    {
     "name": "stdout",
     "output_type": "stream",
     "text": [
      "313/313 [==============================] - 0s 1ms/step - loss: 1.2886 - accuracy: 0.8688\n"
     ]
    }
   ],
   "source": [
    "PELU_Score = model_PELU.evaluate(test_images, test_labels)"
   ]
  },
  {
   "cell_type": "code",
   "execution_count": 61,
   "metadata": {
    "colab": {
     "base_uri": "https://localhost:8080/"
    },
    "id": "1dMkRUIWKEjV",
    "outputId": "804fcaad-a5d9-437d-a622-7a17b691a448"
   },
   "outputs": [
    {
     "name": "stdout",
     "output_type": "stream",
     "text": [
      "313/313 [==============================] - 0s 1ms/step - loss: 1.1245 - accuracy: 0.8719\n"
     ]
    }
   ],
   "source": [
    "RELU_Score = model_RELU.evaluate(test_images, test_labels)"
   ]
  },
  {
   "cell_type": "code",
   "execution_count": 62,
   "metadata": {
    "colab": {
     "base_uri": "https://localhost:8080/",
     "height": 572
    },
    "id": "xTPRmKinmwD_",
    "outputId": "81ec1cc5-4445-4cba-9ea7-5b4900730927"
   },
   "outputs": [
    {
     "data": {
      "image/png": "[encoded data removed]",
      "text/plain": [
       "<Figure size 432x288 with 1 Axes>"
      ]
     },
     "metadata": {
      "needs_background": "light",
      "tags": []
     },
     "output_type": "display_data"
    },
    {
     "data": {
      "image/png": "[encoded data removed]",
      "text/plain": [
       "<Figure size 432x288 with 1 Axes>"
      ]
     },
     "metadata": {
      "needs_background": "light",
      "tags": []
     },
     "output_type": "display_data"
    }
   ],
   "source": [
    "plt.plot(history_PELU.history['accuracy'], label='PELU')\n",
    "plt.plot(history_RELU.history['accuracy'], label='RELU')\n",
    "plt.title('PELU Training VS. RELU Treaining accuracies')\n",
    "plt.ylabel('Accuracy')\n",
    "plt.xlabel('Epoch')\n",
    "plt.legend(loc=\"upper left\")\n",
    "plt.show()\n",
    "\n",
    "plt.plot(history_PELU.history['loss'], label='PELU Training loss')\n",
    "plt.plot(history_RELU.history['loss'], label='RELU Training loss')\n",
    "plt.title('ELU training / validation loss values')\n",
    "plt.ylabel('Loss value')\n",
    "plt.xlabel('Epoch')\n",
    "plt.legend(loc=\"upper left\")\n",
    "plt.show()\n"
   ]
  },
  {
   "cell_type": "code",
   "execution_count": 63,
   "metadata": {
    "id": "jLiSxEFmOD_X"
   },
   "outputs": [],
   "source": [
    "# summarize model performance\n",
    "def summarize_performance(score):\n",
    "  # print summary\n",
    "  plt.figure(figsize=(15, 7))\n",
    "  plt.boxplot(score)\n",
    "  plt.xticks(arange(2)+1., ['PELU', 'RELU'], color='blue')\n",
    "\t"
   ]
  },
  {
   "cell_type": "code",
   "execution_count": 64,
   "metadata": {
    "colab": {
     "base_uri": "https://localhost:8080/",
     "height": 428
    },
    "id": "SKJpXrqbaYCb",
    "outputId": "1dbff346-6c29-44fb-e798-28561fc26f73"
   },
   "outputs": [
    {
     "data": {
      "image/png": "[encoded data removed]",
      "text/plain": [
       "<Figure size 1080x504 with 1 Axes>"
      ]
     },
     "metadata": {
      "needs_background": "light",
      "tags": []
     },
     "output_type": "display_data"
    }
   ],
   "source": [
    "data_to_plot = [PELU_Score, RELU_Score]\n",
    "summarize_performance(data_to_plot)"
   ]
  },
  {
   "cell_type": "markdown",
   "metadata": {
    "id": "BvVbeTDwtdbu"
   },
   "source": [
    "**Exercise 3**: load any classification dataset, and train the model above (using either a custom training loop or `model.fit(...)`). Additionally, compare with a standard ReLU activation."
   ]
  },
  {
   "cell_type": "markdown",
   "metadata": {
    "id": "nkb3cj9r7uUH"
   },
   "source": [
    "### Optional: understanding saving/loading of models"
   ]
  },
  {
   "cell_type": "markdown",
   "metadata": {
    "id": "pEjaJQT06jh9"
   },
   "source": [
    "TensorFlow has several options for saving or loading objects from the disk:\n",
    "\n",
    "1. [Save and load Keras models](https://www.tensorflow.org/guide/keras/save_and_serialize/)\n",
    "\n",
    "In many cases, custom classes require the implementation of a `get_config` / `from_config` functions to define the serialization behaviour.\n",
    "\n",
    "**Exercise 4 (optional)**: implement the `get_config` method and test your implementation as below (taken from the guide on saving and loading models)."
   ]
  },
  {
   "cell_type": "code",
   "execution_count": 65,
   "metadata": {
    "colab": {
     "base_uri": "https://localhost:8080/"
    },
    "id": "voxx7kntvM0W",
    "outputId": "c0090f46-f7ea-479f-e7f3-ff7fe660ff95"
   },
   "outputs": [
    {
     "name": "stdout",
     "output_type": "stream",
     "text": [
      "INFO:tensorflow:Assets written to: pelu_model/assets\n"
     ]
    }
   ],
   "source": [
    "model_PELU.save('pelu_model')\n",
    "del PELU # This is needed to remove any reference to PELU from memory\n",
    "reloaded_model = tf.keras.models.load_model('pelu_model')"
   ]
  },
  {
   "cell_type": "code",
   "execution_count": 66,
   "metadata": {
    "colab": {
     "base_uri": "https://localhost:8080/"
    },
    "id": "838PN8xN0rIW",
    "outputId": "d628bd22-50bf-429b-fe0f-8a92532eb7ba"
   },
   "outputs": [
    {
     "name": "stdout",
     "output_type": "stream",
     "text": [
      "Original model: <tensorflow.python.keras.engine.sequential.Sequential object at 0x7f17b5b14b70>\n",
      "Loaded model: <tensorflow.python.keras.engine.sequential.Sequential object at 0x7f17b612b748>\n"
     ]
    }
   ],
   "source": [
    "print(\"Original model:\", model_PELU)\n",
    "print(\"Loaded model:\", reloaded_model) # Observe that the object has been dynamically recreated in absence of the configuration options"
   ]
  },
  {
   "cell_type": "code",
   "execution_count": 67,
   "metadata": {
    "colab": {
     "base_uri": "https://localhost:8080/"
    },
    "id": "r6n7wuBfoU7-",
    "outputId": "8136f8dc-f06e-48e7-909f-a02c5a816a67"
   },
   "outputs": [
    {
     "name": "stdout",
     "output_type": "stream",
     "text": [
      "Model: \"sequential_2\"\n",
      "_________________________________________________________________\n",
      "Layer (type)                 Output Shape              Param #   \n",
      "=================================================================\n",
      "flatten_2 (Flatten)          (None, 784)               0         \n",
      "_________________________________________________________________\n",
      "dense_4 (Dense)              (None, 50)                39250     \n",
      "_________________________________________________________________\n",
      "pelu_3 (PELU)                (None, 50)                100       \n",
      "_________________________________________________________________\n",
      "dense_5 (Dense)              (None, 10)                510       \n",
      "=================================================================\n",
      "Total params: 39,860\n",
      "Trainable params: 39,860\n",
      "Non-trainable params: 0\n",
      "_________________________________________________________________\n"
     ]
    }
   ],
   "source": [
    "model_PELU.summary()"
   ]
  },
  {
   "cell_type": "code",
   "execution_count": 68,
   "metadata": {
    "colab": {
     "base_uri": "https://localhost:8080/"
    },
    "id": "EQ-TNnUFryYx",
    "outputId": "7f2bd13e-5b7d-43a8-a18c-5dccb3d6b370"
   },
   "outputs": [
    {
     "name": "stdout",
     "output_type": "stream",
     "text": [
      "Model: \"sequential_2\"\n",
      "_________________________________________________________________\n",
      "Layer (type)                 Output Shape              Param #   \n",
      "=================================================================\n",
      "flatten_2 (Flatten)          (None, 784)               0         \n",
      "_________________________________________________________________\n",
      "dense_4 (Dense)              (None, 50)                39250     \n",
      "_________________________________________________________________\n",
      "pelu_3 (PELU)                (None, 50)                100       \n",
      "_________________________________________________________________\n",
      "dense_5 (Dense)              (None, 10)                510       \n",
      "=================================================================\n",
      "Total params: 39,860\n",
      "Trainable params: 39,860\n",
      "Non-trainable params: 0\n",
      "_________________________________________________________________\n"
     ]
    }
   ],
   "source": [
    "reloaded_model.summary()"
   ]
  },
  {
   "cell_type": "code",
   "execution_count": 69,
   "metadata": {
    "colab": {
     "base_uri": "https://localhost:8080/"
    },
    "id": "7ifShT46oPDW",
    "outputId": "0ca04aa6-f0e6-4d72-f0fa-151f05c4531c"
   },
   "outputs": [
    {
     "data": {
      "text/plain": [
       "{'layers': [{'class_name': 'InputLayer',\n",
       "   'config': {'batch_input_shape': (None, 28, 28),\n",
       "    'dtype': 'float32',\n",
       "    'name': 'flatten_2_input',\n",
       "    'ragged': False,\n",
       "    'sparse': False}},\n",
       "  {'class_name': 'Flatten',\n",
       "   'config': {'data_format': 'channels_last',\n",
       "    'dtype': 'float32',\n",
       "    'name': 'flatten_2',\n",
       "    'trainable': True}},\n",
       "  {'class_name': 'Dense',\n",
       "   'config': {'activation': 'linear',\n",
       "    'activity_regularizer': None,\n",
       "    'bias_constraint': None,\n",
       "    'bias_initializer': {'class_name': 'Zeros', 'config': {}},\n",
       "    'bias_regularizer': None,\n",
       "    'dtype': 'float32',\n",
       "    'kernel_constraint': None,\n",
       "    'kernel_initializer': {'class_name': 'GlorotUniform',\n",
       "     'config': {'seed': None}},\n",
       "    'kernel_regularizer': None,\n",
       "    'name': 'dense_4',\n",
       "    'trainable': True,\n",
       "    'units': 50,\n",
       "    'use_bias': True}},\n",
       "  {'class_name': 'PELU',\n",
       "   'config': {'dtype': 'float32',\n",
       "    'name': 'pelu_3',\n",
       "    'trainable': True,\n",
       "    'units': 50}},\n",
       "  {'class_name': 'Dense',\n",
       "   'config': {'activation': 'softmax',\n",
       "    'activity_regularizer': None,\n",
       "    'bias_constraint': None,\n",
       "    'bias_initializer': {'class_name': 'Zeros', 'config': {}},\n",
       "    'bias_regularizer': None,\n",
       "    'dtype': 'float32',\n",
       "    'kernel_constraint': None,\n",
       "    'kernel_initializer': {'class_name': 'GlorotUniform',\n",
       "     'config': {'seed': None}},\n",
       "    'kernel_regularizer': None,\n",
       "    'name': 'dense_5',\n",
       "    'trainable': True,\n",
       "    'units': 10,\n",
       "    'use_bias': True}}],\n",
       " 'name': 'sequential_2'}"
      ]
     },
     "execution_count": 69,
     "metadata": {
      "tags": []
     },
     "output_type": "execute_result"
    }
   ],
   "source": [
    "reloaded_model.get_config()"
   ]
  },
  {
   "cell_type": "code",
   "execution_count": 70,
   "metadata": {
    "colab": {
     "base_uri": "https://localhost:8080/"
    },
    "id": "Vq33d-PAr8p-",
    "outputId": "35619b6a-71b0-46f5-df51-f5aada5c6a61"
   },
   "outputs": [
    {
     "data": {
      "text/plain": [
       "[<tf.Variable 'dense_4/kernel:0' shape=(784, 50) dtype=float32, numpy=\n",
       " array([[-1.20298314e+00, -6.36538565e-02,  8.82164657e-01, ...,\n",
       "          4.24800396e+00,  1.36427760e-01,  3.75160813e+00],\n",
       "        [-8.08053303e+00,  5.36800146e-01,  4.46334028e+00, ...,\n",
       "          1.42236710e+00, -4.60925245e+00,  3.93279219e+00],\n",
       "        [ 2.90532637e+00, -5.86079025e+00,  1.92322820e-01, ...,\n",
       "         -1.80480957e+00, -3.59054661e+00,  5.17981434e+00],\n",
       "        ...,\n",
       "        [ 1.03789486e-01, -9.25643623e-01, -1.62987947e+00, ...,\n",
       "         -6.87891364e-01,  1.10866189e+00,  5.66375582e-03],\n",
       "        [ 1.67371893e+00,  2.61146402e+00, -4.06983137e+00, ...,\n",
       "          2.43734312e+00,  3.67910171e+00, -3.25175762e-01],\n",
       "        [ 4.50793886e+00, -6.09989595e+00,  5.10613060e+00, ...,\n",
       "         -2.31855488e+00,  1.37151062e+00,  1.07814562e+00]], dtype=float32)>,\n",
       " <tf.Variable 'dense_4/bias:0' shape=(50,) dtype=float32, numpy=\n",
       " array([-0.8345965 , -0.7620273 , -0.02904847,  0.89614445, -0.21168944,\n",
       "         1.3406358 ,  0.60436976,  2.551654  , -1.0417879 , -0.47803006,\n",
       "        -0.08557708,  0.24086884,  1.8212223 ,  1.2221402 ,  1.482587  ,\n",
       "         1.760019  ,  1.1054591 ,  1.0802644 ,  0.19122957, -0.14821358,\n",
       "         0.5032682 , -1.0287573 ,  1.0582052 , -1.5706247 , -0.38480937,\n",
       "         1.6416594 ,  0.7555005 ,  0.15050992, -0.11039587, -0.26790676,\n",
       "         1.4580761 , -1.0394105 ,  1.3105646 ,  1.441538  ,  1.6012383 ,\n",
       "         0.86645055,  1.6718212 ,  0.31392124,  0.9982043 , -0.44065106,\n",
       "         0.9322413 ,  1.6666696 , -1.4722085 ,  0.2448189 ,  0.19255957,\n",
       "        -0.23809217,  0.15377232, -0.62158895,  0.8181045 ,  1.1302714 ],\n",
       "       dtype=float32)>,\n",
       " <tf.Variable 'pelu_3/alpha:0' shape=(50,) dtype=float32, numpy=\n",
       " array([0.846931  , 0.98991877, 0.7228532 , 0.80938536, 0.77145   ,\n",
       "        1.0482937 , 0.96802   , 1.0863496 , 0.79450226, 1.2148    ,\n",
       "        0.9115071 , 1.0047129 , 1.090145  , 0.77948165, 1.0969746 ,\n",
       "        1.3272743 , 0.8257855 , 1.1446078 , 1.7151378 , 0.8409119 ,\n",
       "        0.68507355, 0.7295694 , 1.3064536 , 0.737885  , 1.2538669 ,\n",
       "        1.0870092 , 1.377128  , 0.7654645 , 0.7782271 , 0.7018076 ,\n",
       "        0.8812998 , 0.76131797, 1.3131986 , 1.1628454 , 0.8379011 ,\n",
       "        1.0827372 , 0.9504124 , 1.0293067 , 0.9791887 , 1.4178195 ,\n",
       "        0.97225064, 0.8352502 , 1.0644425 , 1.2319258 , 0.9362806 ,\n",
       "        1.0514951 , 0.91571975, 0.70907164, 1.0745779 , 1.019881  ],\n",
       "       dtype=float32)>,\n",
       " <tf.Variable 'pelu_3/beta:0' shape=(50,) dtype=float32, numpy=\n",
       " array([0.7701653 , 0.63618267, 0.7066703 , 0.7597758 , 0.7034937 ,\n",
       "        0.6517626 , 1.4521067 , 0.54174036, 0.8855524 , 0.41681996,\n",
       "        0.5339858 , 0.42258734, 1.1404068 , 0.4806985 , 0.3947107 ,\n",
       "        0.57085097, 0.4481008 , 0.7358883 , 0.6141997 , 0.98617697,\n",
       "        0.7856303 , 0.7617662 , 0.8845826 , 0.8038826 , 0.40209526,\n",
       "        0.5368985 , 0.44909343, 0.84142137, 0.53857183, 0.44415462,\n",
       "        0.7596323 , 0.66653883, 0.4915758 , 0.5231316 , 1.029561  ,\n",
       "        0.574816  , 0.34818384, 0.61552525, 0.81582236, 0.8093963 ,\n",
       "        0.38874188, 0.2485962 , 0.5207457 , 0.51794046, 0.7778307 ,\n",
       "        0.6064965 , 0.6231296 , 0.60198385, 0.78407806, 0.6476059 ],\n",
       "       dtype=float32)>,\n",
       " <tf.Variable 'dense_5/kernel:0' shape=(50, 10) dtype=float32, numpy=\n",
       " array([[-1.15774320e-02,  3.65521014e-01, -1.14838755e+00,\n",
       "          8.22028935e-01, -5.35531640e-01,  4.80792940e-01,\n",
       "         -1.96814127e-02, -8.69753957e-01, -2.80228168e-01,\n",
       "          6.29449129e-01],\n",
       "        [-9.05038297e-01,  5.66827655e-01, -1.04200006e+00,\n",
       "         -1.56360090e-01,  7.02951431e-01, -1.70991123e-01,\n",
       "          5.86166024e-01, -1.32534790e+00, -2.00079724e-01,\n",
       "          3.20629716e-01],\n",
       "        [ 1.95478946e-01, -1.28978336e+00,  3.39358091e-01,\n",
       "          1.76676944e-01, -5.66998184e-01,  4.37329799e-01,\n",
       "          4.95607764e-01, -2.65706778e+00, -1.47882569e+00,\n",
       "         -1.06401098e+00],\n",
       "        [ 3.11711933e-02, -1.21332812e+00,  3.58456135e-01,\n",
       "         -2.25472474e+00,  2.96996653e-01, -3.59617782e+00,\n",
       "          1.47812605e-01, -1.61721826e+00, -3.24798536e+00,\n",
       "         -6.94671512e-01],\n",
       "        [ 5.92032015e-01, -5.58439195e-01, -2.53070379e-03,\n",
       "         -2.04373407e+00, -5.21100760e-01,  3.98686409e-01,\n",
       "          3.56819212e-01, -1.23232353e+00, -5.67767285e-02,\n",
       "         -1.26658484e-01],\n",
       "        [ 3.82172078e-01, -1.74087679e+00,  1.61994219e-01,\n",
       "         -4.80364829e-01, -1.11931849e+00,  8.76859844e-01,\n",
       "          3.88686508e-01, -2.10267091e+00, -5.28610110e-01,\n",
       "         -2.15033114e-01],\n",
       "        [ 1.03927299e-01,  6.63591981e-01,  7.10109398e-02,\n",
       "          3.38590294e-02,  6.60740018e-01, -6.06202078e+00,\n",
       "          1.23088166e-01, -3.11835313e+00,  9.89428461e-02,\n",
       "         -9.85086083e-01],\n",
       "        [ 4.97742474e-01, -8.79268944e-01, -8.48496497e-01,\n",
       "         -2.93609440e-01, -1.34481537e+00,  1.31645501e-01,\n",
       "          6.67458355e-01, -9.14967716e-01, -1.64567292e+00,\n",
       "         -3.22196454e-01],\n",
       "        [ 6.06473207e-01, -9.41423714e-01,  4.69420224e-01,\n",
       "          2.24514529e-01,  5.96333623e-01, -1.63739467e+00,\n",
       "         -4.07936960e-01, -1.37554181e+00, -8.77733588e-01,\n",
       "         -2.99739271e-01],\n",
       "        [-4.45042014e-01,  1.03527415e+00, -1.29668295e+00,\n",
       "         -5.78148127e-01, -2.98389137e-01, -4.73010182e-01,\n",
       "          5.32096446e-01,  2.77807772e-01,  9.72555399e-01,\n",
       "          5.53514183e-01],\n",
       "        [-1.30506027e+00, -1.42067707e+00, -2.00749919e-01,\n",
       "          8.22032094e-01, -1.06067753e+00,  5.60054719e-01,\n",
       "         -2.10621923e-01, -5.04718684e-02,  5.40445089e-01,\n",
       "          1.91800922e-01],\n",
       "        [-2.02824116e-01,  4.26120043e-01, -1.84478834e-01,\n",
       "          7.78212726e-01, -5.75594008e-01,  4.13458258e-01,\n",
       "         -1.34900093e+00, -6.01898193e-01, -7.49194145e-01,\n",
       "          2.03323066e-01],\n",
       "        [ 3.48574132e-01,  1.27650940e+00, -2.35704243e-01,\n",
       "          5.78570247e-01,  1.57604560e-01,  7.31363773e-01,\n",
       "          3.36099043e-02, -6.41620040e-01, -2.71462750e+00,\n",
       "         -2.56162834e+00],\n",
       "        [-2.11535573e+00, -9.64652121e-01,  3.44664991e-01,\n",
       "         -3.46671760e-01,  2.44239986e-01,  6.72350883e-01,\n",
       "          1.09355282e-02,  2.86346346e-01,  4.77278344e-02,\n",
       "         -1.50956726e+00],\n",
       "        [-8.40614796e-01,  7.31495738e-01, -4.32895929e-01,\n",
       "         -5.06654620e-01, -3.14856052e-01, -7.69897044e-01,\n",
       "          8.79637778e-01,  1.06388187e+00,  2.39278600e-02,\n",
       "          1.67152216e-03],\n",
       "        [ 3.88264000e-01,  3.22871685e-01,  3.86149913e-01,\n",
       "         -1.59986281e+00, -9.72604811e-01,  3.87202442e-01,\n",
       "         -6.83648944e-01,  3.77968460e-01,  3.90675724e-01,\n",
       "          2.44565725e-01],\n",
       "        [ 7.15752840e-01, -4.38287944e-01, -1.20372570e+00,\n",
       "          2.54881024e-01,  3.87724012e-01,  1.04898298e+00,\n",
       "         -3.61717343e-01, -1.90116972e-01,  1.00644313e-01,\n",
       "         -1.59032083e+00],\n",
       "        [-5.48568964e-01,  9.97456491e-01,  8.60840440e-01,\n",
       "          7.62898251e-02, -4.52601820e-01, -8.49437863e-02,\n",
       "         -3.86768222e-01,  1.50935268e+00, -1.49703300e+00,\n",
       "          4.22890753e-01],\n",
       "        [-9.71082002e-02,  3.46322328e-01, -8.71284783e-01,\n",
       "         -1.54442382e+00,  4.82113883e-02,  2.69746780e-01,\n",
       "         -1.50807559e+00,  6.20513439e-01, -1.21498823e+00,\n",
       "          6.47665560e-01],\n",
       "        [-1.35937154e+00, -4.96656120e-01,  2.99903512e-01,\n",
       "         -4.32074010e-01,  3.87859941e-01, -2.14061928e+00,\n",
       "          5.33002973e-01,  3.55290830e-01, -2.49087977e+00,\n",
       "         -7.25521266e-01],\n",
       "        [ 3.49637538e-01,  3.50081176e-01,  5.24218857e-01,\n",
       "          2.95739442e-01, -1.58788979e-01,  1.42355311e+00,\n",
       "         -8.87438416e-01,  2.48382971e-01, -4.66585755e-01,\n",
       "         -6.32972240e-01],\n",
       "        [-9.36725676e-01, -1.71414185e-02, -5.48550114e-02,\n",
       "          3.68610829e-01, -1.32360458e-02, -2.26115918e+00,\n",
       "         -3.05949952e-02, -2.28498101e-01,  1.64674926e+00,\n",
       "         -2.08495045e+00],\n",
       "        [ 2.51131177e-01, -1.21190697e-02,  3.84693921e-01,\n",
       "         -2.96742892e+00,  1.63679287e-01,  2.08655566e-01,\n",
       "         -8.27137902e-02, -2.20441625e-01,  5.00699401e-01,\n",
       "          1.18034154e-01],\n",
       "        [-6.79580212e-01,  2.31064633e-01,  2.42933482e-02,\n",
       "         -6.66350663e-01,  4.38738585e-01,  7.27452338e-01,\n",
       "         -7.50788629e-01, -2.18311056e-01,  1.04852557e+00,\n",
       "         -4.03602093e-01],\n",
       "        [-1.34829438e+00, -1.70619056e-01, -7.80495405e-01,\n",
       "          4.01692539e-01,  4.85767156e-01,  9.32263672e-01,\n",
       "          2.01375142e-01, -1.43975580e+00, -1.02506712e-01,\n",
       "         -1.58622451e-02],\n",
       "        [ 5.58822393e-01,  5.11776268e-01, -7.52217650e-01,\n",
       "          1.66370124e-01, -9.45912063e-01, -2.10233307e+00,\n",
       "          5.38890660e-01, -1.17173183e+00, -1.55448997e+00,\n",
       "         -8.25085521e-01],\n",
       "        [-5.37870765e-01,  8.97902727e-01, -4.52338278e-01,\n",
       "         -4.03668046e-01,  5.58766246e-01,  1.63048521e-01,\n",
       "         -9.16268766e-01,  8.33866656e-01,  1.50060463e+00,\n",
       "          2.12858275e-01],\n",
       "        [ 3.52709591e-01, -3.71941400e+00, -2.00581670e-01,\n",
       "         -9.78539705e-01,  1.93680778e-01, -5.20257235e-01,\n",
       "          6.24209702e-01,  8.10446218e-02,  1.02371836e+00,\n",
       "          4.52634543e-01],\n",
       "        [-1.60258114e-01, -3.62860337e-02,  1.58528224e-01,\n",
       "          1.02419329e+00, -5.91612220e-01,  1.04400444e+00,\n",
       "         -6.84488773e-01,  3.68050158e-01,  1.18761741e-01,\n",
       "         -1.33378029e+00],\n",
       "        [-1.19027555e+00, -2.11088157e+00,  5.62820017e-01,\n",
       "         -2.80086964e-01,  3.81756246e-01,  4.65385318e-01,\n",
       "         -7.22519100e-01,  4.30851758e-01,  7.35520780e-01,\n",
       "         -1.20051849e+00],\n",
       "        [-3.85764629e-01, -5.68980813e-01,  8.98259357e-02,\n",
       "          3.06113571e-01, -8.00760508e-01,  1.13268113e+00,\n",
       "          6.94267154e-01, -5.26333094e-01, -1.50004292e+00,\n",
       "          4.41947103e-01],\n",
       "        [ 2.80799180e-01,  2.52794236e-01,  4.61745232e-01,\n",
       "         -1.09874284e+00,  3.69721800e-02, -6.22548401e-01,\n",
       "         -7.63260245e-01, -6.74311101e-01,  8.78786147e-01,\n",
       "          9.99053538e-01],\n",
       "        [-3.20055455e-01,  1.17575014e+00, -9.81974363e-01,\n",
       "          1.48288503e-01,  7.00622022e-01,  1.89096063e-01,\n",
       "         -8.84721458e-01,  8.62564862e-01, -1.98811457e-01,\n",
       "         -9.50285733e-01],\n",
       "        [-4.79798913e-01,  1.13008656e-01,  4.32072401e-01,\n",
       "          4.60612923e-01,  4.11192566e-01,  7.98865378e-01,\n",
       "         -1.39667082e+00, -1.10679150e+00,  1.63331836e-01,\n",
       "          3.59287322e-01],\n",
       "        [ 5.14080942e-01, -4.08147144e+00, -1.01807583e-02,\n",
       "          3.64359468e-01,  7.84608200e-02, -8.88814092e-01,\n",
       "          4.29936230e-01, -1.21715522e+00,  5.78381002e-01,\n",
       "         -2.14657092e+00],\n",
       "        [ 7.40588963e-01, -5.41912690e-02,  3.94886732e-01,\n",
       "         -7.87175834e-01, -3.39652628e-01, -1.31351233e+00,\n",
       "         -6.62096262e-01, -5.16261458e-01,  1.02386737e+00,\n",
       "          3.94381464e-01],\n",
       "        [ 3.75661552e-01,  2.45227948e-01, -1.27517879e+00,\n",
       "          4.69631165e-01, -9.73824501e-01,  8.40604484e-01,\n",
       "         -2.08825544e-01, -2.49054730e-02, -1.85714722e-01,\n",
       "         -1.03592813e+00],\n",
       "        [ 8.83923650e-01, -5.62391102e-01, -3.16707641e-01,\n",
       "         -1.33328819e+00,  4.76807654e-01,  1.06406295e+00,\n",
       "          1.72539398e-01, -1.54337573e+00,  1.01158589e-01,\n",
       "          1.93869080e-02],\n",
       "        [-7.90028989e-01,  5.88517308e-01,  2.81800330e-01,\n",
       "         -1.41158298e-01, -5.79946674e-02, -1.45999312e-01,\n",
       "          5.62937319e-01, -1.02768397e+00, -1.32746053e+00,\n",
       "         -1.00198889e+00],\n",
       "        [-1.13341831e-01,  1.57659411e-01,  1.91344917e-01,\n",
       "         -1.38875425e+00,  5.39212108e-01,  1.13433981e+00,\n",
       "         -1.05602145e+00,  5.36830902e-01, -9.27239895e-01,\n",
       "          1.03169405e+00],\n",
       "        [-1.86653540e-01, -1.11083341e+00, -1.00833559e+00,\n",
       "          4.90199924e-01, -1.30872498e-03, -9.96530712e-01,\n",
       "          6.36664033e-01,  7.18327940e-01,  3.76866311e-01,\n",
       "         -1.10003853e+00],\n",
       "        [-3.91713709e-01, -1.12053013e+00,  5.12953997e-01,\n",
       "          6.79504991e-01, -4.34509456e-01,  8.88590455e-01,\n",
       "         -9.00216699e-01,  6.03084803e-01, -3.83628219e-01,\n",
       "         -4.26453471e-01],\n",
       "        [-2.97369570e-01,  1.45884430e+00, -1.37472296e+00,\n",
       "         -6.79788366e-02,  1.37913689e-01,  7.94520617e-01,\n",
       "         -4.48632181e-01, -4.89319451e-02, -7.73937702e-02,\n",
       "         -7.10173607e-01],\n",
       "        [ 1.61618769e-01,  6.68041646e-01, -1.60518730e+00,\n",
       "          6.14147633e-02, -4.28247482e-01,  4.46158558e-01,\n",
       "         -7.27866590e-01,  7.03956127e-01,  3.01547199e-01,\n",
       "          5.40334880e-01],\n",
       "        [ 5.39974213e-01, -8.06793272e-01,  4.24079895e-01,\n",
       "         -3.22973996e-01,  2.28807047e-01, -8.74687374e-01,\n",
       "         -1.48077458e-01, -3.26855159e+00, -1.06639993e+00,\n",
       "         -1.32400973e-03],\n",
       "        [-1.14394724e-02,  1.22774996e-01,  7.18510211e-01,\n",
       "          5.33502586e-02, -9.89794910e-01,  2.88079232e-01,\n",
       "         -1.07775450e+00, -5.11369586e-01,  4.85066026e-01,\n",
       "          6.64547145e-01],\n",
       "        [ 7.12508082e-01, -2.64661983e-02, -1.16093405e-01,\n",
       "         -1.14322387e-01, -1.49249506e+00, -1.23442960e+00,\n",
       "          1.05708450e-01,  3.79658043e-01, -1.95896757e+00,\n",
       "          4.72602934e-01],\n",
       "        [-5.55292547e-01,  4.01804037e-02, -6.32372856e-01,\n",
       "          9.62584496e-01, -1.03825283e+00, -5.64949214e-01,\n",
       "          6.65649235e-01,  3.60933602e-01, -4.01369780e-01,\n",
       "          4.92926866e-01],\n",
       "        [-1.26811051e+00, -7.27491021e-01, -4.99757111e-01,\n",
       "          1.25835434e-01, -3.69586438e-01,  7.96926796e-01,\n",
       "          7.76078522e-01,  5.39643705e-01, -1.71329722e-01,\n",
       "         -9.42951322e-01],\n",
       "        [-8.40803683e-01, -7.40014374e-01, -7.98005998e-01,\n",
       "          6.93884969e-01,  5.14401913e-01, -1.13137484e+00,\n",
       "         -3.14514071e-01, -1.42572075e-01,  6.76557958e-01,\n",
       "          6.37089431e-01]], dtype=float32)>,\n",
       " <tf.Variable 'dense_5/bias:0' shape=(10,) dtype=float32, numpy=\n",
       " array([ 0.31891423, -1.9689194 ,  0.10491915,  0.6822881 ,  0.06249777,\n",
       "        -0.3925629 ,  0.3024955 , -0.37966207, -0.9471159 , -2.0390856 ],\n",
       "       dtype=float32)>]"
      ]
     },
     "execution_count": 70,
     "metadata": {
      "tags": []
     },
     "output_type": "execute_result"
    }
   ],
   "source": [
    "model_PELU.trainable_weights"
   ]
  },
  {
   "cell_type": "markdown",
   "metadata": {
    "id": "Rl9dZ3HambSz"
   },
   "source": [
    "### References\n",
    "\n",
    "[1] Clevert, D.A., Unterthiner, T. and Hochreiter, S., 2015. [Fast and accurate deep network learning by exponential linear units (ELUs)](https://arxiv.org/abs/1511.07289). arXiv preprint arXiv:1511.07289.\n",
    "\n",
    "[2] Trottier, L., Gigu, P. and Chaib-draa, B., 2017. [Parametric exponential linear unit for deep convolutional neural networks](https://arxiv.org/abs/1605.09332). In 2017 16th IEEE International Conference on Machine Learning and Applications (ICMLA) (pp. 207-214). IEEE."
   ]
  }
 ],
 "metadata": {
  "accelerator": "TPU",
  "colab": {
   "collapsed_sections": [
    "wAEgygyPfO7b"
   ],
   "name": "NNDS_Homework_Seifi Mojaddar.ipynb",
   "provenance": []
  },
  "kernelspec": {
   "display_name": "Python 3",
   "language": "python",
   "name": "python3"
  },
  "language_info": {
   "codemirror_mode": {
    "name": "ipython",
    "version": 3
   },
   "file_extension": ".py",
   "mimetype": "text/x-python",
   "name": "python",
   "nbconvert_exporter": "python",
   "pygments_lexer": "ipython3",
   "version": "3.7.4"
  }
 },
 "nbformat": 4,
 "nbformat_minor": 1
}
